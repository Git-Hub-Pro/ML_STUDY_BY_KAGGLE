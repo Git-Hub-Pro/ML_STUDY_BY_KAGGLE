{
  "nbformat": 4,
  "nbformat_minor": 0,
  "metadata": {
    "colab": {
      "name": "Titanic_tutorial2.ipynb",
      "provenance": [],
      "collapsed_sections": [],
      "authorship_tag": "ABX9TyOvla2464jXpAjGreZ/v7qv",
      "include_colab_link": true
    },
    "kernelspec": {
      "name": "python3",
      "display_name": "Python 3"
    }
  },
  "cells": [
    {
      "cell_type": "markdown",
      "metadata": {
        "id": "view-in-github",
        "colab_type": "text"
      },
      "source": [
        "<a href=\"https://colab.research.google.com/github/Git-Hub-Pro/ML_STUDY_BY_KAGGLE/blob/master/Titanic_tutorial2.ipynb\" target=\"_parent\"><img src=\"https://colab.research.google.com/assets/colab-badge.svg\" alt=\"Open In Colab\"/></a>"
      ]
    },
    {
      "cell_type": "code",
      "metadata": {
        "id": "1Sz2YPa_-4z7",
        "colab_type": "code",
        "colab": {
          "base_uri": "https://localhost:8080/",
          "height": 124
        },
        "outputId": "f32bf446-b521-49d2-dbbb-623241a0a464"
      },
      "source": [
        "from google.colab import drive\n",
        "drive.mount('/content/gdrive/')"
      ],
      "execution_count": 1,
      "outputs": [
        {
          "output_type": "stream",
          "text": [
            "Go to this URL in a browser: https://accounts.google.com/o/oauth2/auth?client_id=947318989803-6bn6qk8qdgf4n4g3pfee6491hc0brc4i.apps.googleusercontent.com&redirect_uri=urn%3aietf%3awg%3aoauth%3a2.0%3aoob&response_type=code&scope=email%20https%3a%2f%2fwww.googleapis.com%2fauth%2fdocs.test%20https%3a%2f%2fwww.googleapis.com%2fauth%2fdrive%20https%3a%2f%2fwww.googleapis.com%2fauth%2fdrive.photos.readonly%20https%3a%2f%2fwww.googleapis.com%2fauth%2fpeopleapi.readonly\n",
            "\n",
            "Enter your authorization code:\n",
            "··········\n",
            "Mounted at /content/gdrive/\n"
          ],
          "name": "stdout"
        }
      ]
    },
    {
      "cell_type": "code",
      "metadata": {
        "id": "mlBd_QJR-_m4",
        "colab_type": "code",
        "outputId": "bdfcc5bb-6a10-48b5-a301-27ca66db02af",
        "colab": {
          "base_uri": "https://localhost:8080/",
          "height": 17
        }
      },
      "source": [
        "import numpy as np\n",
        "import pandas as pd\n",
        "from pandas import Series\n",
        "import matplotlib.pyplot as plt\n",
        "import seaborn as sns\n",
        "\n",
        "plt.style.use('seaborn')\n",
        "sns.set(font_scale=2.5)\n",
        "\n",
        "import plotly.offline as py\n",
        "py.init_notebook_mode(connected=True)\n",
        "\n",
        "import plotly.graph_objs as go\n",
        "import plotly.tools as tls\n",
        "\n",
        "# ignore warnings\n",
        "import warnings\n",
        "warnings.filterwarnings('ignore')\n",
        "\n",
        "%matplotlib inline"
      ],
      "execution_count": 2,
      "outputs": [
        {
          "output_type": "display_data",
          "data": {
            "text/html": [
              "        <script type=\"text/javascript\">\n",
              "        window.PlotlyConfig = {MathJaxConfig: 'local'};\n",
              "        if (window.MathJax) {MathJax.Hub.Config({SVG: {font: \"STIX-Web\"}});}\n",
              "        if (typeof require !== 'undefined') {\n",
              "        require.undef(\"plotly\");\n",
              "        requirejs.config({\n",
              "            paths: {\n",
              "                'plotly': ['https://cdn.plot.ly/plotly-latest.min']\n",
              "            }\n",
              "        });\n",
              "        require(['plotly'], function(Plotly) {\n",
              "            window._Plotly = Plotly;\n",
              "        });\n",
              "        }\n",
              "        </script>\n",
              "        "
            ]
          },
          "metadata": {
            "tags": []
          }
        }
      ]
    },
    {
      "cell_type": "code",
      "metadata": {
        "id": "QD9_q1bc_zyC",
        "colab_type": "code",
        "colab": {}
      },
      "source": [
        "df_train = pd.read_csv(\"/content/gdrive/My Drive/data/kaggle_data/train.csv\")\n",
        "df_test  = pd.read_csv(\"/content/gdrive/My Drive/data/kaggle_data/test.csv\")"
      ],
      "execution_count": 0,
      "outputs": []
    },
    {
      "cell_type": "code",
      "metadata": {
        "id": "p0Oojmbp_31s",
        "colab_type": "code",
        "colab": {}
      },
      "source": [
        "df_train['FamilySize'] = df_train['SibSp'] + df_train['Parch'] + 1 # 자신을 포함해야하니 1을 더합니다\n",
        "df_test['FamilySize'] = df_test['SibSp'] + df_test['Parch'] + 1 # 자신을 포함해야하니 1을 더합니다\n",
        "\n",
        "df_test.loc[df_test.Fare.isnull(), 'Fare'] = df_test['Fare'].mean()\n",
        "\n",
        "df_train['Fare'] = df_train['Fare'].map(lambda i: np.log(i) if i > 0 else 0)\n",
        "df_test['Fare'] = df_test['Fare'].map(lambda i: np.log(i) if i > 0 else 0)"
      ],
      "execution_count": 0,
      "outputs": []
    },
    {
      "cell_type": "code",
      "metadata": {
        "id": "av1EX4P_B3AI",
        "colab_type": "code",
        "colab": {}
      },
      "source": [
        "# Age에는 null data 가 177개나 있습니다. 이를 채울 수 있는 여러 아이디어가 있을 것인데, 여기서 우리느ㄴ title + statistics를 사용해 보겠습니다.\n",
        "# 영어에는 Miss , Mrr, Mrs 같은 title이 들어가게 되는데 이를 사용해 보겠습니다.\n",
        "# pandas series 에는 data 를 string 으로 바꿔주는 str method, 거기에 정규표현식을 적용하게 해주는 extract method 가 있습니다.\n",
        "# 거기에 정규표현식을 적용하게 해주는 extract method 가 있습니다. 이를 사용하여 title을 쉽게 추출할 수 있습니다. title 을 Initial column에 저장하겠습니다."
      ],
      "execution_count": 0,
      "outputs": []
    },
    {
      "cell_type": "code",
      "metadata": {
        "id": "YVuLW5IZCx2U",
        "colab_type": "code",
        "colab": {}
      },
      "source": [
        "df_train['Initial']= df_train.Name.str.extract('([A-Za-z]+)\\.') #lets extract the Salutations\n",
        "df_test['Initial']= df_test.Name.str.extract('([A-Za-z]+)\\.') #lets extract the Salutations"
      ],
      "execution_count": 0,
      "outputs": []
    },
    {
      "cell_type": "code",
      "metadata": {
        "id": "cUcveaCPDcqi",
        "colab_type": "code",
        "colab": {}
      },
      "source": [
        "# pandas 의 crosstab 을 이용하여 우리가 추출한 Initial 과 Sex간의 count를 살펴봅시다."
      ],
      "execution_count": 0,
      "outputs": []
    },
    {
      "cell_type": "code",
      "metadata": {
        "id": "lh4zmONaDmqK",
        "colab_type": "code",
        "outputId": "0a56774a-a19a-4334-eafc-8dfbb11b302b",
        "colab": {
          "base_uri": "https://localhost:8080/",
          "height": 104
        }
      },
      "source": [
        "pd.crosstab(df_train['Initial'],df_train['Sex']).T.style.background_gradient(cmap='summer_r')\n",
        "# cheking the Initials with the Sex"
      ],
      "execution_count": 7,
      "outputs": [
        {
          "output_type": "execute_result",
          "data": {
            "text/html": [
              "<style  type=\"text/css\" >\n",
              "    #T_1d3cfd18_50b3_11ea_9991_0242ac1c0002row0_col0 {\n",
              "            background-color:  #ffff66;\n",
              "            color:  #000000;\n",
              "        }    #T_1d3cfd18_50b3_11ea_9991_0242ac1c0002row0_col1 {\n",
              "            background-color:  #ffff66;\n",
              "            color:  #000000;\n",
              "        }    #T_1d3cfd18_50b3_11ea_9991_0242ac1c0002row0_col2 {\n",
              "            background-color:  #008066;\n",
              "            color:  #f1f1f1;\n",
              "        }    #T_1d3cfd18_50b3_11ea_9991_0242ac1c0002row0_col3 {\n",
              "            background-color:  #ffff66;\n",
              "            color:  #000000;\n",
              "        }    #T_1d3cfd18_50b3_11ea_9991_0242ac1c0002row0_col4 {\n",
              "            background-color:  #ffff66;\n",
              "            color:  #000000;\n",
              "        }    #T_1d3cfd18_50b3_11ea_9991_0242ac1c0002row0_col5 {\n",
              "            background-color:  #ffff66;\n",
              "            color:  #000000;\n",
              "        }    #T_1d3cfd18_50b3_11ea_9991_0242ac1c0002row0_col6 {\n",
              "            background-color:  #008066;\n",
              "            color:  #f1f1f1;\n",
              "        }    #T_1d3cfd18_50b3_11ea_9991_0242ac1c0002row0_col7 {\n",
              "            background-color:  #ffff66;\n",
              "            color:  #000000;\n",
              "        }    #T_1d3cfd18_50b3_11ea_9991_0242ac1c0002row0_col8 {\n",
              "            background-color:  #ffff66;\n",
              "            color:  #000000;\n",
              "        }    #T_1d3cfd18_50b3_11ea_9991_0242ac1c0002row0_col9 {\n",
              "            background-color:  #008066;\n",
              "            color:  #f1f1f1;\n",
              "        }    #T_1d3cfd18_50b3_11ea_9991_0242ac1c0002row0_col10 {\n",
              "            background-color:  #008066;\n",
              "            color:  #f1f1f1;\n",
              "        }    #T_1d3cfd18_50b3_11ea_9991_0242ac1c0002row0_col11 {\n",
              "            background-color:  #008066;\n",
              "            color:  #f1f1f1;\n",
              "        }    #T_1d3cfd18_50b3_11ea_9991_0242ac1c0002row0_col12 {\n",
              "            background-color:  #ffff66;\n",
              "            color:  #000000;\n",
              "        }    #T_1d3cfd18_50b3_11ea_9991_0242ac1c0002row0_col13 {\n",
              "            background-color:  #008066;\n",
              "            color:  #f1f1f1;\n",
              "        }    #T_1d3cfd18_50b3_11ea_9991_0242ac1c0002row0_col14 {\n",
              "            background-color:  #008066;\n",
              "            color:  #f1f1f1;\n",
              "        }    #T_1d3cfd18_50b3_11ea_9991_0242ac1c0002row0_col15 {\n",
              "            background-color:  #ffff66;\n",
              "            color:  #000000;\n",
              "        }    #T_1d3cfd18_50b3_11ea_9991_0242ac1c0002row0_col16 {\n",
              "            background-color:  #ffff66;\n",
              "            color:  #000000;\n",
              "        }    #T_1d3cfd18_50b3_11ea_9991_0242ac1c0002row1_col0 {\n",
              "            background-color:  #008066;\n",
              "            color:  #f1f1f1;\n",
              "        }    #T_1d3cfd18_50b3_11ea_9991_0242ac1c0002row1_col1 {\n",
              "            background-color:  #008066;\n",
              "            color:  #f1f1f1;\n",
              "        }    #T_1d3cfd18_50b3_11ea_9991_0242ac1c0002row1_col2 {\n",
              "            background-color:  #ffff66;\n",
              "            color:  #000000;\n",
              "        }    #T_1d3cfd18_50b3_11ea_9991_0242ac1c0002row1_col3 {\n",
              "            background-color:  #008066;\n",
              "            color:  #f1f1f1;\n",
              "        }    #T_1d3cfd18_50b3_11ea_9991_0242ac1c0002row1_col4 {\n",
              "            background-color:  #008066;\n",
              "            color:  #f1f1f1;\n",
              "        }    #T_1d3cfd18_50b3_11ea_9991_0242ac1c0002row1_col5 {\n",
              "            background-color:  #008066;\n",
              "            color:  #f1f1f1;\n",
              "        }    #T_1d3cfd18_50b3_11ea_9991_0242ac1c0002row1_col6 {\n",
              "            background-color:  #ffff66;\n",
              "            color:  #000000;\n",
              "        }    #T_1d3cfd18_50b3_11ea_9991_0242ac1c0002row1_col7 {\n",
              "            background-color:  #008066;\n",
              "            color:  #f1f1f1;\n",
              "        }    #T_1d3cfd18_50b3_11ea_9991_0242ac1c0002row1_col8 {\n",
              "            background-color:  #008066;\n",
              "            color:  #f1f1f1;\n",
              "        }    #T_1d3cfd18_50b3_11ea_9991_0242ac1c0002row1_col9 {\n",
              "            background-color:  #ffff66;\n",
              "            color:  #000000;\n",
              "        }    #T_1d3cfd18_50b3_11ea_9991_0242ac1c0002row1_col10 {\n",
              "            background-color:  #ffff66;\n",
              "            color:  #000000;\n",
              "        }    #T_1d3cfd18_50b3_11ea_9991_0242ac1c0002row1_col11 {\n",
              "            background-color:  #ffff66;\n",
              "            color:  #000000;\n",
              "        }    #T_1d3cfd18_50b3_11ea_9991_0242ac1c0002row1_col12 {\n",
              "            background-color:  #008066;\n",
              "            color:  #f1f1f1;\n",
              "        }    #T_1d3cfd18_50b3_11ea_9991_0242ac1c0002row1_col13 {\n",
              "            background-color:  #ffff66;\n",
              "            color:  #000000;\n",
              "        }    #T_1d3cfd18_50b3_11ea_9991_0242ac1c0002row1_col14 {\n",
              "            background-color:  #ffff66;\n",
              "            color:  #000000;\n",
              "        }    #T_1d3cfd18_50b3_11ea_9991_0242ac1c0002row1_col15 {\n",
              "            background-color:  #008066;\n",
              "            color:  #f1f1f1;\n",
              "        }    #T_1d3cfd18_50b3_11ea_9991_0242ac1c0002row1_col16 {\n",
              "            background-color:  #008066;\n",
              "            color:  #f1f1f1;\n",
              "        }</style><table id=\"T_1d3cfd18_50b3_11ea_9991_0242ac1c0002\" ><thead>    <tr>        <th class=\"index_name level0\" >Initial</th>        <th class=\"col_heading level0 col0\" >Capt</th>        <th class=\"col_heading level0 col1\" >Col</th>        <th class=\"col_heading level0 col2\" >Countess</th>        <th class=\"col_heading level0 col3\" >Don</th>        <th class=\"col_heading level0 col4\" >Dr</th>        <th class=\"col_heading level0 col5\" >Jonkheer</th>        <th class=\"col_heading level0 col6\" >Lady</th>        <th class=\"col_heading level0 col7\" >Major</th>        <th class=\"col_heading level0 col8\" >Master</th>        <th class=\"col_heading level0 col9\" >Miss</th>        <th class=\"col_heading level0 col10\" >Mlle</th>        <th class=\"col_heading level0 col11\" >Mme</th>        <th class=\"col_heading level0 col12\" >Mr</th>        <th class=\"col_heading level0 col13\" >Mrs</th>        <th class=\"col_heading level0 col14\" >Ms</th>        <th class=\"col_heading level0 col15\" >Rev</th>        <th class=\"col_heading level0 col16\" >Sir</th>    </tr>    <tr>        <th class=\"index_name level0\" >Sex</th>        <th class=\"blank\" ></th>        <th class=\"blank\" ></th>        <th class=\"blank\" ></th>        <th class=\"blank\" ></th>        <th class=\"blank\" ></th>        <th class=\"blank\" ></th>        <th class=\"blank\" ></th>        <th class=\"blank\" ></th>        <th class=\"blank\" ></th>        <th class=\"blank\" ></th>        <th class=\"blank\" ></th>        <th class=\"blank\" ></th>        <th class=\"blank\" ></th>        <th class=\"blank\" ></th>        <th class=\"blank\" ></th>        <th class=\"blank\" ></th>        <th class=\"blank\" ></th>    </tr></thead><tbody>\n",
              "                <tr>\n",
              "                        <th id=\"T_1d3cfd18_50b3_11ea_9991_0242ac1c0002level0_row0\" class=\"row_heading level0 row0\" >female</th>\n",
              "                        <td id=\"T_1d3cfd18_50b3_11ea_9991_0242ac1c0002row0_col0\" class=\"data row0 col0\" >0</td>\n",
              "                        <td id=\"T_1d3cfd18_50b3_11ea_9991_0242ac1c0002row0_col1\" class=\"data row0 col1\" >0</td>\n",
              "                        <td id=\"T_1d3cfd18_50b3_11ea_9991_0242ac1c0002row0_col2\" class=\"data row0 col2\" >1</td>\n",
              "                        <td id=\"T_1d3cfd18_50b3_11ea_9991_0242ac1c0002row0_col3\" class=\"data row0 col3\" >0</td>\n",
              "                        <td id=\"T_1d3cfd18_50b3_11ea_9991_0242ac1c0002row0_col4\" class=\"data row0 col4\" >1</td>\n",
              "                        <td id=\"T_1d3cfd18_50b3_11ea_9991_0242ac1c0002row0_col5\" class=\"data row0 col5\" >0</td>\n",
              "                        <td id=\"T_1d3cfd18_50b3_11ea_9991_0242ac1c0002row0_col6\" class=\"data row0 col6\" >1</td>\n",
              "                        <td id=\"T_1d3cfd18_50b3_11ea_9991_0242ac1c0002row0_col7\" class=\"data row0 col7\" >0</td>\n",
              "                        <td id=\"T_1d3cfd18_50b3_11ea_9991_0242ac1c0002row0_col8\" class=\"data row0 col8\" >0</td>\n",
              "                        <td id=\"T_1d3cfd18_50b3_11ea_9991_0242ac1c0002row0_col9\" class=\"data row0 col9\" >182</td>\n",
              "                        <td id=\"T_1d3cfd18_50b3_11ea_9991_0242ac1c0002row0_col10\" class=\"data row0 col10\" >2</td>\n",
              "                        <td id=\"T_1d3cfd18_50b3_11ea_9991_0242ac1c0002row0_col11\" class=\"data row0 col11\" >1</td>\n",
              "                        <td id=\"T_1d3cfd18_50b3_11ea_9991_0242ac1c0002row0_col12\" class=\"data row0 col12\" >0</td>\n",
              "                        <td id=\"T_1d3cfd18_50b3_11ea_9991_0242ac1c0002row0_col13\" class=\"data row0 col13\" >125</td>\n",
              "                        <td id=\"T_1d3cfd18_50b3_11ea_9991_0242ac1c0002row0_col14\" class=\"data row0 col14\" >1</td>\n",
              "                        <td id=\"T_1d3cfd18_50b3_11ea_9991_0242ac1c0002row0_col15\" class=\"data row0 col15\" >0</td>\n",
              "                        <td id=\"T_1d3cfd18_50b3_11ea_9991_0242ac1c0002row0_col16\" class=\"data row0 col16\" >0</td>\n",
              "            </tr>\n",
              "            <tr>\n",
              "                        <th id=\"T_1d3cfd18_50b3_11ea_9991_0242ac1c0002level0_row1\" class=\"row_heading level0 row1\" >male</th>\n",
              "                        <td id=\"T_1d3cfd18_50b3_11ea_9991_0242ac1c0002row1_col0\" class=\"data row1 col0\" >1</td>\n",
              "                        <td id=\"T_1d3cfd18_50b3_11ea_9991_0242ac1c0002row1_col1\" class=\"data row1 col1\" >2</td>\n",
              "                        <td id=\"T_1d3cfd18_50b3_11ea_9991_0242ac1c0002row1_col2\" class=\"data row1 col2\" >0</td>\n",
              "                        <td id=\"T_1d3cfd18_50b3_11ea_9991_0242ac1c0002row1_col3\" class=\"data row1 col3\" >1</td>\n",
              "                        <td id=\"T_1d3cfd18_50b3_11ea_9991_0242ac1c0002row1_col4\" class=\"data row1 col4\" >6</td>\n",
              "                        <td id=\"T_1d3cfd18_50b3_11ea_9991_0242ac1c0002row1_col5\" class=\"data row1 col5\" >1</td>\n",
              "                        <td id=\"T_1d3cfd18_50b3_11ea_9991_0242ac1c0002row1_col6\" class=\"data row1 col6\" >0</td>\n",
              "                        <td id=\"T_1d3cfd18_50b3_11ea_9991_0242ac1c0002row1_col7\" class=\"data row1 col7\" >2</td>\n",
              "                        <td id=\"T_1d3cfd18_50b3_11ea_9991_0242ac1c0002row1_col8\" class=\"data row1 col8\" >40</td>\n",
              "                        <td id=\"T_1d3cfd18_50b3_11ea_9991_0242ac1c0002row1_col9\" class=\"data row1 col9\" >0</td>\n",
              "                        <td id=\"T_1d3cfd18_50b3_11ea_9991_0242ac1c0002row1_col10\" class=\"data row1 col10\" >0</td>\n",
              "                        <td id=\"T_1d3cfd18_50b3_11ea_9991_0242ac1c0002row1_col11\" class=\"data row1 col11\" >0</td>\n",
              "                        <td id=\"T_1d3cfd18_50b3_11ea_9991_0242ac1c0002row1_col12\" class=\"data row1 col12\" >517</td>\n",
              "                        <td id=\"T_1d3cfd18_50b3_11ea_9991_0242ac1c0002row1_col13\" class=\"data row1 col13\" >0</td>\n",
              "                        <td id=\"T_1d3cfd18_50b3_11ea_9991_0242ac1c0002row1_col14\" class=\"data row1 col14\" >0</td>\n",
              "                        <td id=\"T_1d3cfd18_50b3_11ea_9991_0242ac1c0002row1_col15\" class=\"data row1 col15\" >6</td>\n",
              "                        <td id=\"T_1d3cfd18_50b3_11ea_9991_0242ac1c0002row1_col16\" class=\"data row1 col16\" >1</td>\n",
              "            </tr>\n",
              "    </tbody></table>"
            ],
            "text/plain": [
              "<pandas.io.formats.style.Styler at 0x7f6cb6a09dd8>"
            ]
          },
          "metadata": {
            "tags": []
          },
          "execution_count": 7
        }
      ]
    },
    {
      "cell_type": "code",
      "metadata": {
        "id": "jehsgE_KD6jo",
        "colab_type": "code",
        "colab": {}
      },
      "source": [
        "df_train['Initial'].replace(['Mlle','Mme','Ms','Dr','Major','Lady','Countess','Jonkheer','Col','Rev','Capt','Sir','Don', 'Dona'],\n",
        "                        ['Miss','Miss','Miss','Mr','Mr','Mrs','Mrs','Other','Other','Other','Mr','Mr','Mr', 'Mr'],inplace=True)\n",
        "df_test['Initial'].replace(['Mlle','Mme','Ms','Dr','Major','Lady','Countess','Jonkheer','Col','Rev','Capt','Sir','Don', 'Dona'],\n",
        "                        ['Miss','Miss','Miss','Mr','Mr','Mrs','Mrs','Other','Other','Other','Mr','Mr','Mr', 'Mr'],inplace=True)"
      ],
      "execution_count": 0,
      "outputs": []
    },
    {
      "cell_type": "code",
      "metadata": {
        "id": "wjtgcxJcE87F",
        "colab_type": "code",
        "outputId": "643dfabe-ffe6-4813-e7ce-68a08c0e5d35",
        "colab": {
          "base_uri": "https://localhost:8080/",
          "height": 238
        }
      },
      "source": [
        "df_train.groupby('Initial').mean()"
      ],
      "execution_count": 9,
      "outputs": [
        {
          "output_type": "execute_result",
          "data": {
            "text/html": [
              "<div>\n",
              "<style scoped>\n",
              "    .dataframe tbody tr th:only-of-type {\n",
              "        vertical-align: middle;\n",
              "    }\n",
              "\n",
              "    .dataframe tbody tr th {\n",
              "        vertical-align: top;\n",
              "    }\n",
              "\n",
              "    .dataframe thead th {\n",
              "        text-align: right;\n",
              "    }\n",
              "</style>\n",
              "<table border=\"1\" class=\"dataframe\">\n",
              "  <thead>\n",
              "    <tr style=\"text-align: right;\">\n",
              "      <th></th>\n",
              "      <th>PassengerId</th>\n",
              "      <th>Survived</th>\n",
              "      <th>Pclass</th>\n",
              "      <th>Age</th>\n",
              "      <th>SibSp</th>\n",
              "      <th>Parch</th>\n",
              "      <th>Fare</th>\n",
              "      <th>FamilySize</th>\n",
              "    </tr>\n",
              "    <tr>\n",
              "      <th>Initial</th>\n",
              "      <th></th>\n",
              "      <th></th>\n",
              "      <th></th>\n",
              "      <th></th>\n",
              "      <th></th>\n",
              "      <th></th>\n",
              "      <th></th>\n",
              "      <th></th>\n",
              "    </tr>\n",
              "  </thead>\n",
              "  <tbody>\n",
              "    <tr>\n",
              "      <th>Master</th>\n",
              "      <td>414.975000</td>\n",
              "      <td>0.575000</td>\n",
              "      <td>2.625000</td>\n",
              "      <td>4.574167</td>\n",
              "      <td>2.300000</td>\n",
              "      <td>1.375000</td>\n",
              "      <td>3.340710</td>\n",
              "      <td>4.675000</td>\n",
              "    </tr>\n",
              "    <tr>\n",
              "      <th>Miss</th>\n",
              "      <td>411.741935</td>\n",
              "      <td>0.704301</td>\n",
              "      <td>2.284946</td>\n",
              "      <td>21.860000</td>\n",
              "      <td>0.698925</td>\n",
              "      <td>0.537634</td>\n",
              "      <td>3.123713</td>\n",
              "      <td>2.236559</td>\n",
              "    </tr>\n",
              "    <tr>\n",
              "      <th>Mr</th>\n",
              "      <td>455.880907</td>\n",
              "      <td>0.162571</td>\n",
              "      <td>2.381853</td>\n",
              "      <td>32.739609</td>\n",
              "      <td>0.293006</td>\n",
              "      <td>0.151229</td>\n",
              "      <td>2.651507</td>\n",
              "      <td>1.444234</td>\n",
              "    </tr>\n",
              "    <tr>\n",
              "      <th>Mrs</th>\n",
              "      <td>456.393701</td>\n",
              "      <td>0.795276</td>\n",
              "      <td>1.984252</td>\n",
              "      <td>35.981818</td>\n",
              "      <td>0.692913</td>\n",
              "      <td>0.818898</td>\n",
              "      <td>3.443751</td>\n",
              "      <td>2.511811</td>\n",
              "    </tr>\n",
              "    <tr>\n",
              "      <th>Other</th>\n",
              "      <td>564.444444</td>\n",
              "      <td>0.111111</td>\n",
              "      <td>1.666667</td>\n",
              "      <td>45.888889</td>\n",
              "      <td>0.111111</td>\n",
              "      <td>0.111111</td>\n",
              "      <td>2.641605</td>\n",
              "      <td>1.222222</td>\n",
              "    </tr>\n",
              "  </tbody>\n",
              "</table>\n",
              "</div>"
            ],
            "text/plain": [
              "         PassengerId  Survived    Pclass  ...     Parch      Fare  FamilySize\n",
              "Initial                                   ...                                \n",
              "Master    414.975000  0.575000  2.625000  ...  1.375000  3.340710    4.675000\n",
              "Miss      411.741935  0.704301  2.284946  ...  0.537634  3.123713    2.236559\n",
              "Mr        455.880907  0.162571  2.381853  ...  0.151229  2.651507    1.444234\n",
              "Mrs       456.393701  0.795276  1.984252  ...  0.818898  3.443751    2.511811\n",
              "Other     564.444444  0.111111  1.666667  ...  0.111111  2.641605    1.222222\n",
              "\n",
              "[5 rows x 8 columns]"
            ]
          },
          "metadata": {
            "tags": []
          },
          "execution_count": 9
        }
      ]
    },
    {
      "cell_type": "code",
      "metadata": {
        "id": "oXKTijI0FBkA",
        "colab_type": "code",
        "outputId": "858d7992-ce28-45cb-e3ef-9bdf6279e080",
        "colab": {
          "base_uri": "https://localhost:8080/",
          "height": 405
        }
      },
      "source": [
        "df_train.groupby('Initial')['Survived'].mean().plot.bar()"
      ],
      "execution_count": 10,
      "outputs": [
        {
          "output_type": "execute_result",
          "data": {
            "text/plain": [
              "<matplotlib.axes._subplots.AxesSubplot at 0x7f6cb5467940>"
            ]
          },
          "metadata": {
            "tags": []
          },
          "execution_count": 10
        },
        {
          "output_type": "display_data",
          "data": {
            "image/png": "[encoded data removed]",
            "text/plain": [
              "<Figure size 432x288 with 1 Axes>"
            ]
          },
          "metadata": {
            "tags": []
          }
        }
      ]
    },
    {
      "cell_type": "code",
      "metadata": {
        "id": "dnAyCwmZFWvR",
        "colab_type": "code",
        "colab": {}
      },
      "source": [
        "# null data를 채우느ㄴ 방법은 정말 많이 존재합니다. statistics를 활용하는 방법도 있고, null data가 없는 데이터르ㄹ 기반으로 새로운\n",
        "# 머신러닝 알고리즘을 만들어 예측해서 채워넣는 방식도 있습니다. 여기서는 statistics를 활용하는 방법을 사용할 것입니다.\n",
        "# 여기서 statistics는 train data의 것을 의미합니다. 우리는 언제나 test를 unseen 으로 둔 상태로 놔둬야 하며, train에서 얻은 statistics를 기반으로\n",
        "# test의 null data를 채워줘야 합니다."
      ],
      "execution_count": 0,
      "outputs": []
    },
    {
      "cell_type": "code",
      "metadata": {
        "id": "eodbLpM0GDx1",
        "colab_type": "code",
        "outputId": "e218211b-dcf5-4e48-e839-ee65725b7ab1",
        "colab": {
          "base_uri": "https://localhost:8080/",
          "height": 238
        }
      },
      "source": [
        "df_train.groupby('Initial').mean()"
      ],
      "execution_count": 12,
      "outputs": [
        {
          "output_type": "execute_result",
          "data": {
            "text/html": [
              "<div>\n",
              "<style scoped>\n",
              "    .dataframe tbody tr th:only-of-type {\n",
              "        vertical-align: middle;\n",
              "    }\n",
              "\n",
              "    .dataframe tbody tr th {\n",
              "        vertical-align: top;\n",
              "    }\n",
              "\n",
              "    .dataframe thead th {\n",
              "        text-align: right;\n",
              "    }\n",
              "</style>\n",
              "<table border=\"1\" class=\"dataframe\">\n",
              "  <thead>\n",
              "    <tr style=\"text-align: right;\">\n",
              "      <th></th>\n",
              "      <th>PassengerId</th>\n",
              "      <th>Survived</th>\n",
              "      <th>Pclass</th>\n",
              "      <th>Age</th>\n",
              "      <th>SibSp</th>\n",
              "      <th>Parch</th>\n",
              "      <th>Fare</th>\n",
              "      <th>FamilySize</th>\n",
              "    </tr>\n",
              "    <tr>\n",
              "      <th>Initial</th>\n",
              "      <th></th>\n",
              "      <th></th>\n",
              "      <th></th>\n",
              "      <th></th>\n",
              "      <th></th>\n",
              "      <th></th>\n",
              "      <th></th>\n",
              "      <th></th>\n",
              "    </tr>\n",
              "  </thead>\n",
              "  <tbody>\n",
              "    <tr>\n",
              "      <th>Master</th>\n",
              "      <td>414.975000</td>\n",
              "      <td>0.575000</td>\n",
              "      <td>2.625000</td>\n",
              "      <td>4.574167</td>\n",
              "      <td>2.300000</td>\n",
              "      <td>1.375000</td>\n",
              "      <td>3.340710</td>\n",
              "      <td>4.675000</td>\n",
              "    </tr>\n",
              "    <tr>\n",
              "      <th>Miss</th>\n",
              "      <td>411.741935</td>\n",
              "      <td>0.704301</td>\n",
              "      <td>2.284946</td>\n",
              "      <td>21.860000</td>\n",
              "      <td>0.698925</td>\n",
              "      <td>0.537634</td>\n",
              "      <td>3.123713</td>\n",
              "      <td>2.236559</td>\n",
              "    </tr>\n",
              "    <tr>\n",
              "      <th>Mr</th>\n",
              "      <td>455.880907</td>\n",
              "      <td>0.162571</td>\n",
              "      <td>2.381853</td>\n",
              "      <td>32.739609</td>\n",
              "      <td>0.293006</td>\n",
              "      <td>0.151229</td>\n",
              "      <td>2.651507</td>\n",
              "      <td>1.444234</td>\n",
              "    </tr>\n",
              "    <tr>\n",
              "      <th>Mrs</th>\n",
              "      <td>456.393701</td>\n",
              "      <td>0.795276</td>\n",
              "      <td>1.984252</td>\n",
              "      <td>35.981818</td>\n",
              "      <td>0.692913</td>\n",
              "      <td>0.818898</td>\n",
              "      <td>3.443751</td>\n",
              "      <td>2.511811</td>\n",
              "    </tr>\n",
              "    <tr>\n",
              "      <th>Other</th>\n",
              "      <td>564.444444</td>\n",
              "      <td>0.111111</td>\n",
              "      <td>1.666667</td>\n",
              "      <td>45.888889</td>\n",
              "      <td>0.111111</td>\n",
              "      <td>0.111111</td>\n",
              "      <td>2.641605</td>\n",
              "      <td>1.222222</td>\n",
              "    </tr>\n",
              "  </tbody>\n",
              "</table>\n",
              "</div>"
            ],
            "text/plain": [
              "         PassengerId  Survived    Pclass  ...     Parch      Fare  FamilySize\n",
              "Initial                                   ...                                \n",
              "Master    414.975000  0.575000  2.625000  ...  1.375000  3.340710    4.675000\n",
              "Miss      411.741935  0.704301  2.284946  ...  0.537634  3.123713    2.236559\n",
              "Mr        455.880907  0.162571  2.381853  ...  0.151229  2.651507    1.444234\n",
              "Mrs       456.393701  0.795276  1.984252  ...  0.818898  3.443751    2.511811\n",
              "Other     564.444444  0.111111  1.666667  ...  0.111111  2.641605    1.222222\n",
              "\n",
              "[5 rows x 8 columns]"
            ]
          },
          "metadata": {
            "tags": []
          },
          "execution_count": 12
        }
      ]
    },
    {
      "cell_type": "code",
      "metadata": {
        "id": "Gf_E8J6VGIaP",
        "colab_type": "code",
        "colab": {}
      },
      "source": [
        "# Age의 평균을 이용해 Null value를 채우도록 하겠습니다.."
      ],
      "execution_count": 0,
      "outputs": []
    },
    {
      "cell_type": "code",
      "metadata": {
        "id": "XPS6nGlJGcAx",
        "colab_type": "code",
        "colab": {}
      },
      "source": [
        "df_train.loc[(df_train.Age.isnull())&(df_train.Initial=='Mr'),'Age'] = 33\n",
        "df_train.loc[(df_train.Age.isnull())&(df_train.Initial=='Mrs'),'Age'] = 36\n",
        "df_train.loc[(df_train.Age.isnull())&(df_train.Initial=='Master'),'Age'] = 5\n",
        "df_train.loc[(df_train.Age.isnull())&(df_train.Initial=='Miss'),'Age'] = 22\n",
        "df_train.loc[(df_train.Age.isnull())&(df_train.Initial=='Other'),'Age'] = 46\n",
        "\n",
        "df_test.loc[(df_test.Age.isnull())&(df_test.Initial=='Mr'),'Age'] = 33\n",
        "df_test.loc[(df_test.Age.isnull())&(df_test.Initial=='Mrs'),'Age'] = 36\n",
        "df_test.loc[(df_test.Age.isnull())&(df_test.Initial=='Master'),'Age'] = 5\n",
        "df_test.loc[(df_test.Age.isnull())&(df_test.Initial=='Miss'),'Age'] = 22\n",
        "df_test.loc[(df_test.Age.isnull())&(df_test.Initial=='Other'),'Age'] = 46"
      ],
      "execution_count": 0,
      "outputs": []
    },
    {
      "cell_type": "code",
      "metadata": {
        "id": "oXcO8acxHZzY",
        "colab_type": "code",
        "outputId": "5c043f9e-19bf-497f-ad92-3fdda95b1517",
        "colab": {
          "base_uri": "https://localhost:8080/",
          "height": 34
        }
      },
      "source": [
        "print('Embarked has ', sum(df_train['Embarked'].isnull()), ' Null values')\n"
      ],
      "execution_count": 15,
      "outputs": [
        {
          "output_type": "stream",
          "text": [
            "Embarked has  2  Null values\n"
          ],
          "name": "stdout"
        }
      ]
    },
    {
      "cell_type": "code",
      "metadata": {
        "id": "rXunFrWJHqRn",
        "colab_type": "code",
        "colab": {}
      },
      "source": [
        "df_train['Embarked'].fillna('S', inplace=True)"
      ],
      "execution_count": 0,
      "outputs": []
    },
    {
      "cell_type": "code",
      "metadata": {
        "id": "k8jeJUiJHvUM",
        "colab_type": "code",
        "outputId": "dd4f38e7-1c38-4484-f135-cf4a857274a6",
        "colab": {
          "base_uri": "https://localhost:8080/",
          "height": 54
        }
      },
      "source": [
        "\"\"\"\n",
        "Age 는 현재 continuous feature 입니다. 이대로 써도 모델을 세울 수 있지만,\n",
        "Age 를 몇개의 group 으로 나누어 category 화 시켜줄 수 도 있습니다. \n",
        "continuous 를 categorical 로 바꾸면 자칫 information loss 가 생길 수도 있습니다만,\n",
        "본 튜토리얼에서는 다양한 방법을 소개하는 것이 목적이므로 진행하도록 하겠습니다.\n",
        "\"\"\""
      ],
      "execution_count": 17,
      "outputs": [
        {
          "output_type": "execute_result",
          "data": {
            "text/plain": [
              "'\\nAge 는 현재 continuous feature 입니다. 이대로 써도 모델을 세울 수 있지만,\\nAge 를 몇개의 group 으로 나누어 category 화 시켜줄 수 도 있습니다. \\ncontinuous 를 categorical 로 바꾸면 자칫 information loss 가 생길 수도 있습니다만,\\n본 튜토리얼에서는 다양한 방법을 소개하는 것이 목적이므로 진행하도록 하겠습니다.\\n'"
            ]
          },
          "metadata": {
            "tags": []
          },
          "execution_count": 17
        }
      ]
    },
    {
      "cell_type": "code",
      "metadata": {
        "id": "D0b8AJ49O4fs",
        "colab_type": "code",
        "colab": {}
      },
      "source": [
        "df_train['Age_cat'] = 0\n",
        "df_train.loc[df_train['Age'] < 10, 'Age_cat'] = 0\n",
        "df_train.loc[(10 <= df_train['Age']) & (df_train['Age'] < 20), 'Age_cat'] = 1\n",
        "df_train.loc[(20 <= df_train['Age']) & (df_train['Age'] < 30), 'Age_cat'] = 2\n",
        "df_train.loc[(30 <= df_train['Age']) & (df_train['Age'] < 40), 'Age_cat'] = 3\n",
        "df_train.loc[(40 <= df_train['Age']) & (df_train['Age'] < 50), 'Age_cat'] = 4\n",
        "df_train.loc[(50 <= df_train['Age']) & (df_train['Age'] < 60), 'Age_cat'] = 5\n",
        "df_train.loc[(60 <= df_train['Age']) & (df_train['Age'] < 70), 'Age_cat'] = 6\n",
        "df_train.loc[70 <= df_train['Age'], 'Age_cat'] = 7\n",
        "\n",
        "df_test['Age_cat'] = 0\n",
        "df_test.loc[df_test['Age'] < 10, 'Age_cat'] = 0\n",
        "df_test.loc[(10 <= df_test['Age']) & (df_test['Age'] < 20), 'Age_cat'] = 1\n",
        "df_test.loc[(20 <= df_test['Age']) & (df_test['Age'] < 30), 'Age_cat'] = 2\n",
        "df_test.loc[(30 <= df_test['Age']) & (df_test['Age'] < 40), 'Age_cat'] = 3\n",
        "df_test.loc[(40 <= df_test['Age']) & (df_test['Age'] < 50), 'Age_cat'] = 4\n",
        "df_test.loc[(50 <= df_test['Age']) & (df_test['Age'] < 60), 'Age_cat'] = 5\n",
        "df_test.loc[(60 <= df_test['Age']) & (df_test['Age'] < 70), 'Age_cat'] = 6\n",
        "df_test.loc[70 <= df_test['Age'], 'Age_cat'] = 7"
      ],
      "execution_count": 0,
      "outputs": []
    },
    {
      "cell_type": "code",
      "metadata": {
        "id": "2cLhof31PFLA",
        "colab_type": "code",
        "colab": {}
      },
      "source": [
        "def category_age(x):\n",
        "    if x < 10:\n",
        "        return 0\n",
        "    elif x < 20:\n",
        "        return 1\n",
        "    elif x < 30:\n",
        "        return 2\n",
        "    elif x < 40:\n",
        "        return 3\n",
        "    elif x < 50:\n",
        "        return 4\n",
        "    elif x < 60:\n",
        "        return 5\n",
        "    elif x < 70:\n",
        "        return 6\n",
        "    else:\n",
        "        return 7    \n",
        "df_train['Age_cat_2'] = df_train['Age'].apply(category_age)"
      ],
      "execution_count": 0,
      "outputs": []
    },
    {
      "cell_type": "code",
      "metadata": {
        "id": "5JRL5BLmPHQS",
        "colab_type": "code",
        "outputId": "ac86b5df-c7d3-4d4e-e2b8-61746c10050e",
        "colab": {
          "base_uri": "https://localhost:8080/",
          "height": 34
        }
      },
      "source": [
        "print('1번 방법, 2번 방법 둘다 같은 결과를 내면 True 줘야함 -> ', (df_train['Age_cat'] == df_train['Age_cat_2']).all())"
      ],
      "execution_count": 20,
      "outputs": [
        {
          "output_type": "stream",
          "text": [
            "1번 방법, 2번 방법 둘다 같은 결과를 내면 True 줘야함 ->  True\n"
          ],
          "name": "stdout"
        }
      ]
    },
    {
      "cell_type": "code",
      "metadata": {
        "id": "dKITpMy5I1jV",
        "colab_type": "code",
        "colab": {}
      },
      "source": [
        "df_train.drop(['Age', 'Age_cat_2'], axis=1, inplace=True)\n",
        "df_test.drop(['Age'], axis=1, inplace=True)"
      ],
      "execution_count": 0,
      "outputs": []
    },
    {
      "cell_type": "code",
      "metadata": {
        "id": "Y0sbkiSWT3Ms",
        "colab_type": "code",
        "outputId": "28eee01e-c4b9-42dc-e584-1386c7997ad2",
        "colab": {
          "base_uri": "https://localhost:8080/",
          "height": 206
        }
      },
      "source": [
        "df_train.head()"
      ],
      "execution_count": 22,
      "outputs": [
        {
          "output_type": "execute_result",
          "data": {
            "text/html": [
              "<div>\n",
              "<style scoped>\n",
              "    .dataframe tbody tr th:only-of-type {\n",
              "        vertical-align: middle;\n",
              "    }\n",
              "\n",
              "    .dataframe tbody tr th {\n",
              "        vertical-align: top;\n",
              "    }\n",
              "\n",
              "    .dataframe thead th {\n",
              "        text-align: right;\n",
              "    }\n",
              "</style>\n",
              "<table border=\"1\" class=\"dataframe\">\n",
              "  <thead>\n",
              "    <tr style=\"text-align: right;\">\n",
              "      <th></th>\n",
              "      <th>PassengerId</th>\n",
              "      <th>Survived</th>\n",
              "      <th>Pclass</th>\n",
              "      <th>Name</th>\n",
              "      <th>Sex</th>\n",
              "      <th>SibSp</th>\n",
              "      <th>Parch</th>\n",
              "      <th>Ticket</th>\n",
              "      <th>Fare</th>\n",
              "      <th>Cabin</th>\n",
              "      <th>Embarked</th>\n",
              "      <th>FamilySize</th>\n",
              "      <th>Initial</th>\n",
              "      <th>Age_cat</th>\n",
              "    </tr>\n",
              "  </thead>\n",
              "  <tbody>\n",
              "    <tr>\n",
              "      <th>0</th>\n",
              "      <td>1</td>\n",
              "      <td>0</td>\n",
              "      <td>3</td>\n",
              "      <td>Braund, Mr. Owen Harris</td>\n",
              "      <td>male</td>\n",
              "      <td>1</td>\n",
              "      <td>0</td>\n",
              "      <td>A/5 21171</td>\n",
              "      <td>1.981001</td>\n",
              "      <td>NaN</td>\n",
              "      <td>S</td>\n",
              "      <td>2</td>\n",
              "      <td>Mr</td>\n",
              "      <td>2</td>\n",
              "    </tr>\n",
              "    <tr>\n",
              "      <th>1</th>\n",
              "      <td>2</td>\n",
              "      <td>1</td>\n",
              "      <td>1</td>\n",
              "      <td>Cumings, Mrs. John Bradley (Florence Briggs Th...</td>\n",
              "      <td>female</td>\n",
              "      <td>1</td>\n",
              "      <td>0</td>\n",
              "      <td>PC 17599</td>\n",
              "      <td>4.266662</td>\n",
              "      <td>C85</td>\n",
              "      <td>C</td>\n",
              "      <td>2</td>\n",
              "      <td>Mrs</td>\n",
              "      <td>3</td>\n",
              "    </tr>\n",
              "    <tr>\n",
              "      <th>2</th>\n",
              "      <td>3</td>\n",
              "      <td>1</td>\n",
              "      <td>3</td>\n",
              "      <td>Heikkinen, Miss. Laina</td>\n",
              "      <td>female</td>\n",
              "      <td>0</td>\n",
              "      <td>0</td>\n",
              "      <td>STON/O2. 3101282</td>\n",
              "      <td>2.070022</td>\n",
              "      <td>NaN</td>\n",
              "      <td>S</td>\n",
              "      <td>1</td>\n",
              "      <td>Miss</td>\n",
              "      <td>2</td>\n",
              "    </tr>\n",
              "    <tr>\n",
              "      <th>3</th>\n",
              "      <td>4</td>\n",
              "      <td>1</td>\n",
              "      <td>1</td>\n",
              "      <td>Futrelle, Mrs. Jacques Heath (Lily May Peel)</td>\n",
              "      <td>female</td>\n",
              "      <td>1</td>\n",
              "      <td>0</td>\n",
              "      <td>113803</td>\n",
              "      <td>3.972177</td>\n",
              "      <td>C123</td>\n",
              "      <td>S</td>\n",
              "      <td>2</td>\n",
              "      <td>Mrs</td>\n",
              "      <td>3</td>\n",
              "    </tr>\n",
              "    <tr>\n",
              "      <th>4</th>\n",
              "      <td>5</td>\n",
              "      <td>0</td>\n",
              "      <td>3</td>\n",
              "      <td>Allen, Mr. William Henry</td>\n",
              "      <td>male</td>\n",
              "      <td>0</td>\n",
              "      <td>0</td>\n",
              "      <td>373450</td>\n",
              "      <td>2.085672</td>\n",
              "      <td>NaN</td>\n",
              "      <td>S</td>\n",
              "      <td>1</td>\n",
              "      <td>Mr</td>\n",
              "      <td>3</td>\n",
              "    </tr>\n",
              "  </tbody>\n",
              "</table>\n",
              "</div>"
            ],
            "text/plain": [
              "   PassengerId  Survived  Pclass  ... FamilySize Initial  Age_cat\n",
              "0            1         0       3  ...          2      Mr        2\n",
              "1            2         1       1  ...          2     Mrs        3\n",
              "2            3         1       3  ...          1    Miss        2\n",
              "3            4         1       1  ...          2     Mrs        3\n",
              "4            5         0       3  ...          1      Mr        3\n",
              "\n",
              "[5 rows x 14 columns]"
            ]
          },
          "metadata": {
            "tags": []
          },
          "execution_count": 22
        }
      ]
    },
    {
      "cell_type": "code",
      "metadata": {
        "id": "orGYzc1MT90j",
        "colab_type": "code",
        "outputId": "0523daee-af38-4588-de2e-d79814e87521",
        "colab": {
          "base_uri": "https://localhost:8080/",
          "height": 206
        }
      },
      "source": [
        "df_test.head()"
      ],
      "execution_count": 23,
      "outputs": [
        {
          "output_type": "execute_result",
          "data": {
            "text/html": [
              "<div>\n",
              "<style scoped>\n",
              "    .dataframe tbody tr th:only-of-type {\n",
              "        vertical-align: middle;\n",
              "    }\n",
              "\n",
              "    .dataframe tbody tr th {\n",
              "        vertical-align: top;\n",
              "    }\n",
              "\n",
              "    .dataframe thead th {\n",
              "        text-align: right;\n",
              "    }\n",
              "</style>\n",
              "<table border=\"1\" class=\"dataframe\">\n",
              "  <thead>\n",
              "    <tr style=\"text-align: right;\">\n",
              "      <th></th>\n",
              "      <th>PassengerId</th>\n",
              "      <th>Pclass</th>\n",
              "      <th>Name</th>\n",
              "      <th>Sex</th>\n",
              "      <th>SibSp</th>\n",
              "      <th>Parch</th>\n",
              "      <th>Ticket</th>\n",
              "      <th>Fare</th>\n",
              "      <th>Cabin</th>\n",
              "      <th>Embarked</th>\n",
              "      <th>FamilySize</th>\n",
              "      <th>Initial</th>\n",
              "      <th>Age_cat</th>\n",
              "    </tr>\n",
              "  </thead>\n",
              "  <tbody>\n",
              "    <tr>\n",
              "      <th>0</th>\n",
              "      <td>892</td>\n",
              "      <td>3</td>\n",
              "      <td>Kelly, Mr. James</td>\n",
              "      <td>male</td>\n",
              "      <td>0</td>\n",
              "      <td>0</td>\n",
              "      <td>330911</td>\n",
              "      <td>2.057860</td>\n",
              "      <td>NaN</td>\n",
              "      <td>Q</td>\n",
              "      <td>1</td>\n",
              "      <td>Mr</td>\n",
              "      <td>3</td>\n",
              "    </tr>\n",
              "    <tr>\n",
              "      <th>1</th>\n",
              "      <td>893</td>\n",
              "      <td>3</td>\n",
              "      <td>Wilkes, Mrs. James (Ellen Needs)</td>\n",
              "      <td>female</td>\n",
              "      <td>1</td>\n",
              "      <td>0</td>\n",
              "      <td>363272</td>\n",
              "      <td>1.945910</td>\n",
              "      <td>NaN</td>\n",
              "      <td>S</td>\n",
              "      <td>2</td>\n",
              "      <td>Mrs</td>\n",
              "      <td>4</td>\n",
              "    </tr>\n",
              "    <tr>\n",
              "      <th>2</th>\n",
              "      <td>894</td>\n",
              "      <td>2</td>\n",
              "      <td>Myles, Mr. Thomas Francis</td>\n",
              "      <td>male</td>\n",
              "      <td>0</td>\n",
              "      <td>0</td>\n",
              "      <td>240276</td>\n",
              "      <td>2.270836</td>\n",
              "      <td>NaN</td>\n",
              "      <td>Q</td>\n",
              "      <td>1</td>\n",
              "      <td>Mr</td>\n",
              "      <td>6</td>\n",
              "    </tr>\n",
              "    <tr>\n",
              "      <th>3</th>\n",
              "      <td>895</td>\n",
              "      <td>3</td>\n",
              "      <td>Wirz, Mr. Albert</td>\n",
              "      <td>male</td>\n",
              "      <td>0</td>\n",
              "      <td>0</td>\n",
              "      <td>315154</td>\n",
              "      <td>2.159003</td>\n",
              "      <td>NaN</td>\n",
              "      <td>S</td>\n",
              "      <td>1</td>\n",
              "      <td>Mr</td>\n",
              "      <td>2</td>\n",
              "    </tr>\n",
              "    <tr>\n",
              "      <th>4</th>\n",
              "      <td>896</td>\n",
              "      <td>3</td>\n",
              "      <td>Hirvonen, Mrs. Alexander (Helga E Lindqvist)</td>\n",
              "      <td>female</td>\n",
              "      <td>1</td>\n",
              "      <td>1</td>\n",
              "      <td>3101298</td>\n",
              "      <td>2.508582</td>\n",
              "      <td>NaN</td>\n",
              "      <td>S</td>\n",
              "      <td>3</td>\n",
              "      <td>Mrs</td>\n",
              "      <td>2</td>\n",
              "    </tr>\n",
              "  </tbody>\n",
              "</table>\n",
              "</div>"
            ],
            "text/plain": [
              "   PassengerId  Pclass  ... Initial Age_cat\n",
              "0          892       3  ...      Mr       3\n",
              "1          893       3  ...     Mrs       4\n",
              "2          894       2  ...      Mr       6\n",
              "3          895       3  ...      Mr       2\n",
              "4          896       3  ...     Mrs       2\n",
              "\n",
              "[5 rows x 13 columns]"
            ]
          },
          "metadata": {
            "tags": []
          },
          "execution_count": 23
        }
      ]
    },
    {
      "cell_type": "code",
      "metadata": {
        "id": "HxYfOXBZJi-q",
        "colab_type": "code",
        "outputId": "cbd408c5-0ece-47e7-814e-d0d148129864",
        "colab": {
          "base_uri": "https://localhost:8080/",
          "height": 34
        }
      },
      "source": [
        "df_train['Embarked'].unique()"
      ],
      "execution_count": 24,
      "outputs": [
        {
          "output_type": "execute_result",
          "data": {
            "text/plain": [
              "array(['S', 'C', 'Q'], dtype=object)"
            ]
          },
          "metadata": {
            "tags": []
          },
          "execution_count": 24
        }
      ]
    },
    {
      "cell_type": "code",
      "metadata": {
        "id": "8I2GJsRjJpNA",
        "colab_type": "code",
        "outputId": "bf455e92-bb20-4196-967f-47ee8757d070",
        "colab": {
          "base_uri": "https://localhost:8080/",
          "height": 86
        }
      },
      "source": [
        "df_train['Embarked'].value_counts()"
      ],
      "execution_count": 25,
      "outputs": [
        {
          "output_type": "execute_result",
          "data": {
            "text/plain": [
              "S    646\n",
              "C    168\n",
              "Q     77\n",
              "Name: Embarked, dtype: int64"
            ]
          },
          "metadata": {
            "tags": []
          },
          "execution_count": 25
        }
      ]
    },
    {
      "cell_type": "code",
      "metadata": {
        "id": "tjl7KsUjJtIe",
        "colab_type": "code",
        "colab": {}
      },
      "source": [
        "df_train['Sex'] = df_train['Sex'].map({'female': 0, 'male': 1})\n",
        "df_test['Sex'] = df_test['Sex'].map({'female': 0, 'male': 1})"
      ],
      "execution_count": 0,
      "outputs": []
    },
    {
      "cell_type": "code",
      "metadata": {
        "id": "MLuofZD6KIlo",
        "colab_type": "code",
        "outputId": "b4215f72-55c0-478b-b969-65e389670083",
        "colab": {
          "base_uri": "https://localhost:8080/",
          "height": 34
        }
      },
      "source": [
        "df_train['Embarked'].isnull().any()"
      ],
      "execution_count": 27,
      "outputs": [
        {
          "output_type": "execute_result",
          "data": {
            "text/plain": [
              "False"
            ]
          },
          "metadata": {
            "tags": []
          },
          "execution_count": 27
        }
      ]
    },
    {
      "cell_type": "code",
      "metadata": {
        "id": "obhex-cPKtMI",
        "colab_type": "code",
        "colab": {}
      },
      "source": [
        "heatmap_data = df_train[['Survived', 'Pclass', 'Sex', 'Fare', 'Embarked', 'FamilySize', 'Initial', 'Age_cat']] \n",
        "\n",
        "colormap = plt.cm.RdBu\n",
        "plt.figure(figsize=(14, 12))\n",
        "plt.title('Pearson Correlation of Features', y=1.05, size=15)\n",
        "sns.heatmap(heatmap_data.astype(float).corr(), linewidths=0.1, vmax=1.0,square=True, cmap=colormap, linecolor='white', annot=True, annot_kws={\"size\": 16})\n",
        "del heatmap_data"
      ],
      "execution_count": 0,
      "outputs": []
    },
    {
      "cell_type": "code",
      "metadata": {
        "id": "F1VO2fOZLnec",
        "colab_type": "code",
        "colab": {}
      },
      "source": [
        "# one-hot encoding on Initial and Embarked"
      ],
      "execution_count": 0,
      "outputs": []
    },
    {
      "cell_type": "code",
      "metadata": {
        "id": "OVUMknwHMKkV",
        "colab_type": "code",
        "colab": {}
      },
      "source": [
        "df_train = pd.get_dummies(df_train,columns=['Initial'],prefix='Initial')\n",
        "df_test = pd.get_dummies(df_test,columns=['Initial'],prefix='Initial')"
      ],
      "execution_count": 0,
      "outputs": []
    },
    {
      "cell_type": "code",
      "metadata": {
        "id": "nd45SXe9MZoW",
        "colab_type": "code",
        "outputId": "28152ab7-b5c7-40b0-8cea-2f68c0636ba9",
        "colab": {
          "base_uri": "https://localhost:8080/",
          "height": 311
        }
      },
      "source": [
        "df_train.head()"
      ],
      "execution_count": 32,
      "outputs": [
        {
          "output_type": "execute_result",
          "data": {
            "text/html": [
              "<div>\n",
              "<style scoped>\n",
              "    .dataframe tbody tr th:only-of-type {\n",
              "        vertical-align: middle;\n",
              "    }\n",
              "\n",
              "    .dataframe tbody tr th {\n",
              "        vertical-align: top;\n",
              "    }\n",
              "\n",
              "    .dataframe thead th {\n",
              "        text-align: right;\n",
              "    }\n",
              "</style>\n",
              "<table border=\"1\" class=\"dataframe\">\n",
              "  <thead>\n",
              "    <tr style=\"text-align: right;\">\n",
              "      <th></th>\n",
              "      <th>PassengerId</th>\n",
              "      <th>Survived</th>\n",
              "      <th>Pclass</th>\n",
              "      <th>Name</th>\n",
              "      <th>Sex</th>\n",
              "      <th>SibSp</th>\n",
              "      <th>Parch</th>\n",
              "      <th>Ticket</th>\n",
              "      <th>Fare</th>\n",
              "      <th>Cabin</th>\n",
              "      <th>Embarked</th>\n",
              "      <th>FamilySize</th>\n",
              "      <th>Age_cat</th>\n",
              "      <th>Initial_Master</th>\n",
              "      <th>Initial_Miss</th>\n",
              "      <th>Initial_Mr</th>\n",
              "      <th>Initial_Mrs</th>\n",
              "      <th>Initial_Other</th>\n",
              "    </tr>\n",
              "  </thead>\n",
              "  <tbody>\n",
              "    <tr>\n",
              "      <th>0</th>\n",
              "      <td>1</td>\n",
              "      <td>0</td>\n",
              "      <td>3</td>\n",
              "      <td>Braund, Mr. Owen Harris</td>\n",
              "      <td>1</td>\n",
              "      <td>1</td>\n",
              "      <td>0</td>\n",
              "      <td>A/5 21171</td>\n",
              "      <td>1.981001</td>\n",
              "      <td>NaN</td>\n",
              "      <td>S</td>\n",
              "      <td>2</td>\n",
              "      <td>2</td>\n",
              "      <td>0</td>\n",
              "      <td>0</td>\n",
              "      <td>1</td>\n",
              "      <td>0</td>\n",
              "      <td>0</td>\n",
              "    </tr>\n",
              "    <tr>\n",
              "      <th>1</th>\n",
              "      <td>2</td>\n",
              "      <td>1</td>\n",
              "      <td>1</td>\n",
              "      <td>Cumings, Mrs. John Bradley (Florence Briggs Th...</td>\n",
              "      <td>0</td>\n",
              "      <td>1</td>\n",
              "      <td>0</td>\n",
              "      <td>PC 17599</td>\n",
              "      <td>4.266662</td>\n",
              "      <td>C85</td>\n",
              "      <td>C</td>\n",
              "      <td>2</td>\n",
              "      <td>3</td>\n",
              "      <td>0</td>\n",
              "      <td>0</td>\n",
              "      <td>0</td>\n",
              "      <td>1</td>\n",
              "      <td>0</td>\n",
              "    </tr>\n",
              "    <tr>\n",
              "      <th>2</th>\n",
              "      <td>3</td>\n",
              "      <td>1</td>\n",
              "      <td>3</td>\n",
              "      <td>Heikkinen, Miss. Laina</td>\n",
              "      <td>0</td>\n",
              "      <td>0</td>\n",
              "      <td>0</td>\n",
              "      <td>STON/O2. 3101282</td>\n",
              "      <td>2.070022</td>\n",
              "      <td>NaN</td>\n",
              "      <td>S</td>\n",
              "      <td>1</td>\n",
              "      <td>2</td>\n",
              "      <td>0</td>\n",
              "      <td>1</td>\n",
              "      <td>0</td>\n",
              "      <td>0</td>\n",
              "      <td>0</td>\n",
              "    </tr>\n",
              "    <tr>\n",
              "      <th>3</th>\n",
              "      <td>4</td>\n",
              "      <td>1</td>\n",
              "      <td>1</td>\n",
              "      <td>Futrelle, Mrs. Jacques Heath (Lily May Peel)</td>\n",
              "      <td>0</td>\n",
              "      <td>1</td>\n",
              "      <td>0</td>\n",
              "      <td>113803</td>\n",
              "      <td>3.972177</td>\n",
              "      <td>C123</td>\n",
              "      <td>S</td>\n",
              "      <td>2</td>\n",
              "      <td>3</td>\n",
              "      <td>0</td>\n",
              "      <td>0</td>\n",
              "      <td>0</td>\n",
              "      <td>1</td>\n",
              "      <td>0</td>\n",
              "    </tr>\n",
              "    <tr>\n",
              "      <th>4</th>\n",
              "      <td>5</td>\n",
              "      <td>0</td>\n",
              "      <td>3</td>\n",
              "      <td>Allen, Mr. William Henry</td>\n",
              "      <td>1</td>\n",
              "      <td>0</td>\n",
              "      <td>0</td>\n",
              "      <td>373450</td>\n",
              "      <td>2.085672</td>\n",
              "      <td>NaN</td>\n",
              "      <td>S</td>\n",
              "      <td>1</td>\n",
              "      <td>3</td>\n",
              "      <td>0</td>\n",
              "      <td>0</td>\n",
              "      <td>1</td>\n",
              "      <td>0</td>\n",
              "      <td>0</td>\n",
              "    </tr>\n",
              "  </tbody>\n",
              "</table>\n",
              "</div>"
            ],
            "text/plain": [
              "   PassengerId  Survived  Pclass  ... Initial_Mr  Initial_Mrs  Initial_Other\n",
              "0            1         0       3  ...          1            0              0\n",
              "1            2         1       1  ...          0            1              0\n",
              "2            3         1       3  ...          0            0              0\n",
              "3            4         1       1  ...          0            1              0\n",
              "4            5         0       3  ...          1            0              0\n",
              "\n",
              "[5 rows x 18 columns]"
            ]
          },
          "metadata": {
            "tags": []
          },
          "execution_count": 32
        }
      ]
    },
    {
      "cell_type": "code",
      "metadata": {
        "id": "8jk9MEr0MbHy",
        "colab_type": "code",
        "colab": {}
      },
      "source": [
        "df_train = pd.get_dummies(df_train,columns=['Embarked'],prefix='Embarked')\n",
        "df_test = pd.get_dummies(df_test,columns=['Embarked'],prefix='Embarked')"
      ],
      "execution_count": 0,
      "outputs": []
    },
    {
      "cell_type": "code",
      "metadata": {
        "id": "OCYAfj1dMxv9",
        "colab_type": "code",
        "colab": {}
      },
      "source": [
        "# sklearn로 Labelencoder + oneHotencoder 이용해도 one-hot encoding이 가능합니다.\n",
        "# category 가 100개가 넘어가는 경우가 있습니다. 이때 One-hot encoding 을 사용하면 column이 100개가 생겨, 학습시 매우 버거울 경우가\n",
        "# 있습니다. 이런 경우는 다른 방법을 사용하기도 합니다."
      ],
      "execution_count": 0,
      "outputs": []
    },
    {
      "cell_type": "code",
      "metadata": {
        "id": "9iW_QP0YNPkM",
        "colab_type": "code",
        "colab": {}
      },
      "source": [
        "df_train.drop(['PassengerId', 'Name', 'SibSp', 'Parch', 'Ticket', 'Cabin'], axis=1, inplace=True)\n",
        "df_test.drop(['PassengerId', 'Name',  'SibSp', 'Parch', 'Ticket', 'Cabin'], axis=1, inplace=True)"
      ],
      "execution_count": 0,
      "outputs": []
    },
    {
      "cell_type": "code",
      "metadata": {
        "id": "-OdCZv31RTnM",
        "colab_type": "code",
        "outputId": "db3dcd3a-bf5e-4cb1-fec9-eb86003c6d9d",
        "colab": {
          "base_uri": "https://localhost:8080/",
          "height": 206
        }
      },
      "source": [
        "\n",
        "\n",
        "df_train.head()\n",
        "\n"
      ],
      "execution_count": 36,
      "outputs": [
        {
          "output_type": "execute_result",
          "data": {
            "text/html": [
              "<div>\n",
              "<style scoped>\n",
              "    .dataframe tbody tr th:only-of-type {\n",
              "        vertical-align: middle;\n",
              "    }\n",
              "\n",
              "    .dataframe tbody tr th {\n",
              "        vertical-align: top;\n",
              "    }\n",
              "\n",
              "    .dataframe thead th {\n",
              "        text-align: right;\n",
              "    }\n",
              "</style>\n",
              "<table border=\"1\" class=\"dataframe\">\n",
              "  <thead>\n",
              "    <tr style=\"text-align: right;\">\n",
              "      <th></th>\n",
              "      <th>Survived</th>\n",
              "      <th>Pclass</th>\n",
              "      <th>Sex</th>\n",
              "      <th>Fare</th>\n",
              "      <th>FamilySize</th>\n",
              "      <th>Age_cat</th>\n",
              "      <th>Initial_Master</th>\n",
              "      <th>Initial_Miss</th>\n",
              "      <th>Initial_Mr</th>\n",
              "      <th>Initial_Mrs</th>\n",
              "      <th>Initial_Other</th>\n",
              "      <th>Embarked_C</th>\n",
              "      <th>Embarked_Q</th>\n",
              "      <th>Embarked_S</th>\n",
              "    </tr>\n",
              "  </thead>\n",
              "  <tbody>\n",
              "    <tr>\n",
              "      <th>0</th>\n",
              "      <td>0</td>\n",
              "      <td>3</td>\n",
              "      <td>1</td>\n",
              "      <td>1.981001</td>\n",
              "      <td>2</td>\n",
              "      <td>2</td>\n",
              "      <td>0</td>\n",
              "      <td>0</td>\n",
              "      <td>1</td>\n",
              "      <td>0</td>\n",
              "      <td>0</td>\n",
              "      <td>0</td>\n",
              "      <td>0</td>\n",
              "      <td>1</td>\n",
              "    </tr>\n",
              "    <tr>\n",
              "      <th>1</th>\n",
              "      <td>1</td>\n",
              "      <td>1</td>\n",
              "      <td>0</td>\n",
              "      <td>4.266662</td>\n",
              "      <td>2</td>\n",
              "      <td>3</td>\n",
              "      <td>0</td>\n",
              "      <td>0</td>\n",
              "      <td>0</td>\n",
              "      <td>1</td>\n",
              "      <td>0</td>\n",
              "      <td>1</td>\n",
              "      <td>0</td>\n",
              "      <td>0</td>\n",
              "    </tr>\n",
              "    <tr>\n",
              "      <th>2</th>\n",
              "      <td>1</td>\n",
              "      <td>3</td>\n",
              "      <td>0</td>\n",
              "      <td>2.070022</td>\n",
              "      <td>1</td>\n",
              "      <td>2</td>\n",
              "      <td>0</td>\n",
              "      <td>1</td>\n",
              "      <td>0</td>\n",
              "      <td>0</td>\n",
              "      <td>0</td>\n",
              "      <td>0</td>\n",
              "      <td>0</td>\n",
              "      <td>1</td>\n",
              "    </tr>\n",
              "    <tr>\n",
              "      <th>3</th>\n",
              "      <td>1</td>\n",
              "      <td>1</td>\n",
              "      <td>0</td>\n",
              "      <td>3.972177</td>\n",
              "      <td>2</td>\n",
              "      <td>3</td>\n",
              "      <td>0</td>\n",
              "      <td>0</td>\n",
              "      <td>0</td>\n",
              "      <td>1</td>\n",
              "      <td>0</td>\n",
              "      <td>0</td>\n",
              "      <td>0</td>\n",
              "      <td>1</td>\n",
              "    </tr>\n",
              "    <tr>\n",
              "      <th>4</th>\n",
              "      <td>0</td>\n",
              "      <td>3</td>\n",
              "      <td>1</td>\n",
              "      <td>2.085672</td>\n",
              "      <td>1</td>\n",
              "      <td>3</td>\n",
              "      <td>0</td>\n",
              "      <td>0</td>\n",
              "      <td>1</td>\n",
              "      <td>0</td>\n",
              "      <td>0</td>\n",
              "      <td>0</td>\n",
              "      <td>0</td>\n",
              "      <td>1</td>\n",
              "    </tr>\n",
              "  </tbody>\n",
              "</table>\n",
              "</div>"
            ],
            "text/plain": [
              "   Survived  Pclass  Sex  ...  Embarked_C  Embarked_Q  Embarked_S\n",
              "0         0       3    1  ...           0           0           1\n",
              "1         1       1    0  ...           1           0           0\n",
              "2         1       3    0  ...           0           0           1\n",
              "3         1       1    0  ...           0           0           1\n",
              "4         0       3    1  ...           0           0           1\n",
              "\n",
              "[5 rows x 14 columns]"
            ]
          },
          "metadata": {
            "tags": []
          },
          "execution_count": 36
        }
      ]
    },
    {
      "cell_type": "code",
      "metadata": {
        "id": "ApmbwIAjRW9C",
        "colab_type": "code",
        "outputId": "bbcbb87d-3178-463f-cf82-e2b9b938c17f",
        "colab": {
          "base_uri": "https://localhost:8080/",
          "height": 206
        }
      },
      "source": [
        "\n",
        "\n",
        "df_test.head()\n",
        "\n"
      ],
      "execution_count": 37,
      "outputs": [
        {
          "output_type": "execute_result",
          "data": {
            "text/html": [
              "<div>\n",
              "<style scoped>\n",
              "    .dataframe tbody tr th:only-of-type {\n",
              "        vertical-align: middle;\n",
              "    }\n",
              "\n",
              "    .dataframe tbody tr th {\n",
              "        vertical-align: top;\n",
              "    }\n",
              "\n",
              "    .dataframe thead th {\n",
              "        text-align: right;\n",
              "    }\n",
              "</style>\n",
              "<table border=\"1\" class=\"dataframe\">\n",
              "  <thead>\n",
              "    <tr style=\"text-align: right;\">\n",
              "      <th></th>\n",
              "      <th>Pclass</th>\n",
              "      <th>Sex</th>\n",
              "      <th>Fare</th>\n",
              "      <th>FamilySize</th>\n",
              "      <th>Age_cat</th>\n",
              "      <th>Initial_Master</th>\n",
              "      <th>Initial_Miss</th>\n",
              "      <th>Initial_Mr</th>\n",
              "      <th>Initial_Mrs</th>\n",
              "      <th>Initial_Other</th>\n",
              "      <th>Embarked_C</th>\n",
              "      <th>Embarked_Q</th>\n",
              "      <th>Embarked_S</th>\n",
              "    </tr>\n",
              "  </thead>\n",
              "  <tbody>\n",
              "    <tr>\n",
              "      <th>0</th>\n",
              "      <td>3</td>\n",
              "      <td>1</td>\n",
              "      <td>2.057860</td>\n",
              "      <td>1</td>\n",
              "      <td>3</td>\n",
              "      <td>0</td>\n",
              "      <td>0</td>\n",
              "      <td>1</td>\n",
              "      <td>0</td>\n",
              "      <td>0</td>\n",
              "      <td>0</td>\n",
              "      <td>1</td>\n",
              "      <td>0</td>\n",
              "    </tr>\n",
              "    <tr>\n",
              "      <th>1</th>\n",
              "      <td>3</td>\n",
              "      <td>0</td>\n",
              "      <td>1.945910</td>\n",
              "      <td>2</td>\n",
              "      <td>4</td>\n",
              "      <td>0</td>\n",
              "      <td>0</td>\n",
              "      <td>0</td>\n",
              "      <td>1</td>\n",
              "      <td>0</td>\n",
              "      <td>0</td>\n",
              "      <td>0</td>\n",
              "      <td>1</td>\n",
              "    </tr>\n",
              "    <tr>\n",
              "      <th>2</th>\n",
              "      <td>2</td>\n",
              "      <td>1</td>\n",
              "      <td>2.270836</td>\n",
              "      <td>1</td>\n",
              "      <td>6</td>\n",
              "      <td>0</td>\n",
              "      <td>0</td>\n",
              "      <td>1</td>\n",
              "      <td>0</td>\n",
              "      <td>0</td>\n",
              "      <td>0</td>\n",
              "      <td>1</td>\n",
              "      <td>0</td>\n",
              "    </tr>\n",
              "    <tr>\n",
              "      <th>3</th>\n",
              "      <td>3</td>\n",
              "      <td>1</td>\n",
              "      <td>2.159003</td>\n",
              "      <td>1</td>\n",
              "      <td>2</td>\n",
              "      <td>0</td>\n",
              "      <td>0</td>\n",
              "      <td>1</td>\n",
              "      <td>0</td>\n",
              "      <td>0</td>\n",
              "      <td>0</td>\n",
              "      <td>0</td>\n",
              "      <td>1</td>\n",
              "    </tr>\n",
              "    <tr>\n",
              "      <th>4</th>\n",
              "      <td>3</td>\n",
              "      <td>0</td>\n",
              "      <td>2.508582</td>\n",
              "      <td>3</td>\n",
              "      <td>2</td>\n",
              "      <td>0</td>\n",
              "      <td>0</td>\n",
              "      <td>0</td>\n",
              "      <td>1</td>\n",
              "      <td>0</td>\n",
              "      <td>0</td>\n",
              "      <td>0</td>\n",
              "      <td>1</td>\n",
              "    </tr>\n",
              "  </tbody>\n",
              "</table>\n",
              "</div>"
            ],
            "text/plain": [
              "   Pclass  Sex      Fare  ...  Embarked_C  Embarked_Q  Embarked_S\n",
              "0       3    1  2.057860  ...           0           1           0\n",
              "1       3    0  1.945910  ...           0           0           1\n",
              "2       2    1  2.270836  ...           0           1           0\n",
              "3       3    1  2.159003  ...           0           0           1\n",
              "4       3    0  2.508582  ...           0           0           1\n",
              "\n",
              "[5 rows x 13 columns]"
            ]
          },
          "metadata": {
            "tags": []
          },
          "execution_count": 37
        }
      ]
    },
    {
      "cell_type": "code",
      "metadata": {
        "id": "iZrrSBmbRbuh",
        "colab_type": "code",
        "colab": {}
      },
      "source": [
        "# Building machine learning model and prediction using the trained model\n",
        "\"\"\"\n",
        "RandomForestClassifier는 여러개의 Sampling data를 동일한 방법(결정 트리)으로 training을 한 후, 각 각에 대해 예측한 결과 값을 토대로\n",
        "결과값을 예측하는데 사용되고 있다.  \n",
        "\n",
        "앙상블의 학습의 유형은 보팅(voting), 배깅(Bagging),부스팅(Boosting) 3가지 유형이 있다.\n",
        "보팅은 모든 data set을 Linear Regression, K Nearest Neighbor, Support Vector Machine을 통한 예측값을 통하여 결과값을 예측하는데 사용된다.\n",
        "\n",
        "부스팅은 여러 개의 분류기가 순차적으로 학습을 수행하되, 앞에서 학습한 분류기가 예측이 틀린 데이터에 대해서는 올바르게 예측할 수 있도록 다음 분류기에서도\n",
        "가중치(weight)를 부여하면서 학습과 예측을 진행하는 것입니다. \n",
        "\"\"\"\n",
        "#importing all the required ML packages\n",
        "from sklearn.ensemble import RandomForestClassifier # 유명한 randomforestclassfier 입니다. \n",
        "from sklearn import metrics # 모델의 평가를 위해서 씁니다\n",
        "from sklearn.model_selection import train_test_split # traning set을 쉽게 나눠주는 함수입니다.\n",
        "from sklearn.metrics import accuracy_score\n"
      ],
      "execution_count": 0,
      "outputs": []
    },
    {
      "cell_type": "code",
      "metadata": {
        "id": "D5fyqTVEGjpS",
        "colab_type": "code",
        "colab": {}
      },
      "source": [
        "X_train = df_train.drop('Survived', axis=1).values\n",
        "target_label = df_train['Survived'].values\n",
        "X_test = df_test.values"
      ],
      "execution_count": 0,
      "outputs": []
    },
    {
      "cell_type": "code",
      "metadata": {
        "id": "d5DpnvO5HMom",
        "colab_type": "code",
        "outputId": "470beaa0-63bb-4255-967d-476420985bd6",
        "colab": {
          "base_uri": "https://localhost:8080/",
          "height": 54
        }
      },
      "source": [
        "\"\"\"\n",
        "train을 하고 valid를 거쳐, test를 진행하는 것.\n",
        "파라미터 튜닝은 시간, 경험, 알고리즘에 대한 이해 등이 필요합니다. 결국 많이 써봐야 모델도 잘 세울 수 있는 것이죠.\n",
        "그래서 캐글을 추천합니다. 여러 데이터 셋을 가지고 모델을 이리저리 써봐야 튜닝하는 감이 생길테니까요!\n",
        "\"\"\""
      ],
      "execution_count": 40,
      "outputs": [
        {
          "output_type": "execute_result",
          "data": {
            "text/plain": [
              "'\\ntrain을 하고 valid를 거쳐, test를 진행하는 것.\\n파라미터 튜닝은 시간, 경험, 알고리즘에 대한 이해 등이 필요합니다. 결국 많이 써봐야 모델도 잘 세울 수 있는 것이죠.\\n그래서 캐글을 추천합니다. 여러 데이터 셋을 가지고 모델을 이리저리 써봐야 튜닝하는 감이 생길테니까요!\\n'"
            ]
          },
          "metadata": {
            "tags": []
          },
          "execution_count": 40
        }
      ]
    },
    {
      "cell_type": "code",
      "metadata": {
        "id": "c8r5XOFOIiQj",
        "colab_type": "code",
        "colab": {}
      },
      "source": [
        "X_tr, X_vld, y_tr, y_vld = train_test_split(X_train, target_label, test_size=0.3, random_state=2018)\n",
        "# test size 비율 30%,random_state=2018"
      ],
      "execution_count": 0,
      "outputs": []
    },
    {
      "cell_type": "code",
      "metadata": {
        "id": "xM58Nz71H2JJ",
        "colab_type": "code",
        "colab": {}
      },
      "source": [
        "model = RandomForestClassifier()\n",
        "model.fit(X_tr, y_tr)\n",
        "prediction = model.predict(X_vld)"
      ],
      "execution_count": 0,
      "outputs": []
    },
    {
      "cell_type": "code",
      "metadata": {
        "id": "z8eTq_8dIc4l",
        "colab_type": "code",
        "outputId": "abb13486-37df-4464-ed69-d722a6ace5af",
        "colab": {
          "base_uri": "https://localhost:8080/",
          "height": 34
        }
      },
      "source": [
        "print('총 {}명 중 {:.2f}% 정확도로 생존을 맞춤'.format(y_vld.shape[0], 100 * metrics.accuracy_score(prediction, y_vld)))"
      ],
      "execution_count": 43,
      "outputs": [
        {
          "output_type": "stream",
          "text": [
            "총 268명 중 81.34% 정확도로 생존을 맞춤\n"
          ],
          "name": "stdout"
        }
      ]
    },
    {
      "cell_type": "code",
      "metadata": {
        "id": "k6oM4tlYJeMp",
        "colab_type": "code",
        "colab": {
          "base_uri": "https://localhost:8080/",
          "height": 69
        },
        "outputId": "544f7a90-c125-4b4f-83a3-e5fb33322764"
      },
      "source": [
        "from sklearn.model_selection import GridSearchCV\n",
        "\n",
        "params = {\n",
        "    'n_estimators':[100],\n",
        "    'max_depth':[6,8,10,12],\n",
        "    'min_samples_leaf':[8,12,18],\n",
        "    'min_samples_split':[8,16,20]\n",
        "}\n",
        "\n",
        "# RandomForestClassifier 객체 생성 후 GridSearchCV 수행\n",
        "rf_clf = RandomForestClassifier(random_state=0,n_jobs=-1)\n",
        "grid_cv = GridSearchCV(rf_clf,param_grid=params,cv=2,n_jobs=-1)\n",
        "grid_cv.fit(X_tr,y_tr)\n",
        "\n",
        "print('최적 하이퍼 파라미터:\\n',grid_cv.best_params_)\n",
        "print('최고 예측 정확도:{:.4f}'.format(grid_cv.best_score_))"
      ],
      "execution_count": 46,
      "outputs": [
        {
          "output_type": "stream",
          "text": [
            "최적 하이퍼 파라미터:\n",
            " {'max_depth': 6, 'min_samples_leaf': 8, 'min_samples_split': 8, 'n_estimators': 100}\n",
            "최고 예측 정확도:0.8041\n"
          ],
          "name": "stdout"
        }
      ]
    },
    {
      "cell_type": "code",
      "metadata": {
        "id": "UQqb58D830ld",
        "colab_type": "code",
        "colab": {}
      },
      "source": [
        "from sklearn.ensemble import VotingClassifier\n",
        "from sklearn.linear_model import LogisticRegression\n",
        "from sklearn.neighbors import KNeighborsClassifier\n",
        "from sklearn.model_selection import train_test_split\n",
        "from sklearn.metrics import accuracy_score"
      ],
      "execution_count": 0,
      "outputs": []
    },
    {
      "cell_type": "code",
      "metadata": {
        "id": "f-S6TUiB5ClR",
        "colab_type": "code",
        "colab": {
          "base_uri": "https://localhost:8080/",
          "height": 69
        },
        "outputId": "1a7a2ef6-871d-450f-d27e-34d04782aeb1"
      },
      "source": [
        "# 개별 모델은 로지스틱 회귀와 KNN임\n",
        "lr_clf = LogisticRegression()\n",
        "knn_clf = KNeighborsClassifier(n_neighbors=8)\n",
        "\n",
        "# 개별 모델을 소프트 보팅 기반의 앙상블 모델로 구현한 분류기\n",
        "vo_clf = VotingClassifier(estimators=[('LR',lr_clf),('KNN',knn_clf)],voting='soft')\n",
        "\n",
        "# VotingClassifier 학습/예측/평가.\n",
        "vo_clf.fit(X_tr,y_tr)\n",
        "pred = vo_clf.predict(X_vld)\n",
        "print('Voting 분류기 정확도 ::{0:.4f}'.format(accuracy_score(y_vld,pred)))"
      ],
      "execution_count": 61,
      "outputs": [
        {
          "output_type": "stream",
          "text": [
            "Voting 분류기 정확도 ::0.8769\n",
            "LogisticRegression 정확도:0.8731\n",
            "KNeighborsClassifier 정확도:0.8507\n"
          ],
          "name": "stdout"
        }
      ]
    },
    {
      "cell_type": "code",
      "metadata": {
        "id": "dTiuQuDi8FJM",
        "colab_type": "code",
        "colab": {
          "base_uri": "https://localhost:8080/",
          "height": 52
        },
        "outputId": "c74fd952-d717-4e3b-b857-cc2b0dc4dc2e"
      },
      "source": [
        "# 개별 모델의 학습/예측/평가.\n",
        "classifiers = [lr_clf,knn_clf]\n",
        "for classifier in classifiers:\n",
        "  classifier.fit(X_tr,y_tr)\n",
        "  pred = classifier.predict(X_vld)\n",
        "  class_name = classifier.__class__.__name__\n",
        "  print('{0} 정확도:{1:.4f}'.format(class_name,accuracy_score(y_vld,pred)))"
      ],
      "execution_count": 62,
      "outputs": [
        {
          "output_type": "stream",
          "text": [
            "LogisticRegression 정확도:0.8731\n",
            "KNeighborsClassifier 정확도:0.8507\n"
          ],
          "name": "stdout"
        }
      ]
    },
    {
      "cell_type": "code",
      "metadata": {
        "id": "DyVg5NHB8UiH",
        "colab_type": "code",
        "colab": {
          "base_uri": "https://localhost:8080/",
          "height": 52
        },
        "outputId": "82dbcf68-9263-4886-93b7-1bac6b825148"
      },
      "source": [
        "from sklearn.ensemble import GradientBoostingClassifier\n",
        "import time\n",
        "import warnings\n",
        "warnings.filterwarnings('ignore')\n",
        "\n",
        "X_tr, X_vld, y_tr, y_vld = train_test_split(X_train, target_label, test_size=0.3, random_state=2018)\n",
        "# test size 비율 30%,random_state=2018\n",
        "# GBM 수행시간 측정을 위함. 시작 시간 설정\n",
        "start_time = time.time()\n",
        "\n",
        "gb_clf = GradientBoostingClassifier(random_state=0)\n",
        "gb_clf.fit(X_tr,y_tr)\n",
        "gb_pred = gb_clf.predict(X_vld)\n",
        "gb_accuracy = accuracy_score(y_test,gb_pred)\n",
        "\n",
        "print('GBM 정확도:{0:.4f}'.format(gb_accuracy))\n",
        "print('GBM 수행시간:{0:.1f} 초'.format(time.time()-start_time))"
      ],
      "execution_count": 63,
      "outputs": [
        {
          "output_type": "stream",
          "text": [
            "GBM 정확도:0.8507\n",
            "GBM 수행시간:0.1 초\n"
          ],
          "name": "stdout"
        }
      ]
    },
    {
      "cell_type": "code",
      "metadata": {
        "id": "KnpU8REo-Ge3",
        "colab_type": "code",
        "colab": {
          "base_uri": "https://localhost:8080/",
          "height": 121
        },
        "outputId": "50f19f39-8b6b-42d6-85b8-ff4074e3552d"
      },
      "source": [
        "from sklearn.model_selection import GridSearchCV\n",
        "\n",
        "params = {\n",
        "    'n_estimators':[100,500],\n",
        "    'learning_rate':[0.05,0.1]\n",
        "}\n",
        "grid_cv = GridSearchCV(gb_clf,param_grid=params,cv=2,verbose=1)\n",
        "grid_cv.fit(X_tr,y_tr)\n",
        "print('최적 하이퍼 파라미터:\\n',grid_cv.best_params_)\n",
        "print('최고 예측 정확도:{0:.4f}'.format(grid_cv.best_score_))"
      ],
      "execution_count": 65,
      "outputs": [
        {
          "output_type": "stream",
          "text": [
            "Fitting 2 folds for each of 4 candidates, totalling 8 fits\n"
          ],
          "name": "stdout"
        },
        {
          "output_type": "stream",
          "text": [
            "[Parallel(n_jobs=1)]: Using backend SequentialBackend with 1 concurrent workers.\n"
          ],
          "name": "stderr"
        },
        {
          "output_type": "stream",
          "text": [
            "최적 하이퍼 파라미터:\n",
            " {'learning_rate': 0.05, 'n_estimators': 100}\n",
            "최고 예측 정확도:0.7961\n"
          ],
          "name": "stdout"
        },
        {
          "output_type": "stream",
          "text": [
            "[Parallel(n_jobs=1)]: Done   8 out of   8 | elapsed:    1.9s finished\n"
          ],
          "name": "stderr"
        }
      ]
    },
    {
      "cell_type": "code",
      "metadata": {
        "id": "VJzdoR4l-09D",
        "colab_type": "code",
        "colab": {
          "base_uri": "https://localhost:8080/",
          "height": 34
        },
        "outputId": "57a8b1fe-f401-4457-82d1-0259db7002df"
      },
      "source": [
        "import xgboost\n",
        "print(xgboost.__version__)"
      ],
      "execution_count": 67,
      "outputs": [
        {
          "output_type": "stream",
          "text": [
            "0.90\n"
          ],
          "name": "stdout"
        }
      ]
    },
    {
      "cell_type": "code",
      "metadata": {
        "id": "rF2SDJP6_L-E",
        "colab_type": "code",
        "colab": {
          "base_uri": "https://localhost:8080/",
          "height": 1000
        },
        "outputId": "dc920bee-b19f-4bbe-d8f1-70fe703ff52d"
      },
      "source": [
        "from xgboost import XGBClassifier\n",
        "\n",
        "xgb_wrapper = XGBClassifier(n_estimators=400,learning_rate=0.1,max_depth=3)\n",
        "evals = [(X_tr,y_tr)]\n",
        "\n",
        "xgb_wrapper.fit(X_tr,y_tr,early_stopping_rounds=100,eval_metric=\"logloss\",eval_set=evals,verbose=True)\n",
        "prediction = xgb_wrapper.predict(X_vld)\n",
        "print('총 {}명 중 {:.2f}% 정확도로 생존을 맞춤'.format(y_vld.shape[0], 100 * metrics.accuracy_score(prediction, y_vld)))"
      ],
      "execution_count": 68,
      "outputs": [
        {
          "output_type": "stream",
          "text": [
            "[0]\tvalidation_0-logloss:0.647793\n",
            "Will train until validation_0-logloss hasn't improved in 100 rounds.\n",
            "[1]\tvalidation_0-logloss:0.610131\n",
            "[2]\tvalidation_0-logloss:0.579058\n",
            "[3]\tvalidation_0-logloss:0.553024\n",
            "[4]\tvalidation_0-logloss:0.530663\n",
            "[5]\tvalidation_0-logloss:0.511984\n",
            "[6]\tvalidation_0-logloss:0.495941\n",
            "[7]\tvalidation_0-logloss:0.481871\n",
            "[8]\tvalidation_0-logloss:0.469568\n",
            "[9]\tvalidation_0-logloss:0.459344\n",
            "[10]\tvalidation_0-logloss:0.4502\n",
            "[11]\tvalidation_0-logloss:0.442534\n",
            "[12]\tvalidation_0-logloss:0.435537\n",
            "[13]\tvalidation_0-logloss:0.429437\n",
            "[14]\tvalidation_0-logloss:0.424127\n",
            "[15]\tvalidation_0-logloss:0.419061\n",
            "[16]\tvalidation_0-logloss:0.414802\n",
            "[17]\tvalidation_0-logloss:0.411007\n",
            "[18]\tvalidation_0-logloss:0.407388\n",
            "[19]\tvalidation_0-logloss:0.404237\n",
            "[20]\tvalidation_0-logloss:0.401303\n",
            "[21]\tvalidation_0-logloss:0.397967\n",
            "[22]\tvalidation_0-logloss:0.395085\n",
            "[23]\tvalidation_0-logloss:0.392295\n",
            "[24]\tvalidation_0-logloss:0.389857\n",
            "[25]\tvalidation_0-logloss:0.387315\n",
            "[26]\tvalidation_0-logloss:0.385635\n",
            "[27]\tvalidation_0-logloss:0.383857\n",
            "[28]\tvalidation_0-logloss:0.38075\n",
            "[29]\tvalidation_0-logloss:0.379132\n",
            "[30]\tvalidation_0-logloss:0.37772\n",
            "[31]\tvalidation_0-logloss:0.375081\n",
            "[32]\tvalidation_0-logloss:0.373848\n",
            "[33]\tvalidation_0-logloss:0.372759\n",
            "[34]\tvalidation_0-logloss:0.371127\n",
            "[35]\tvalidation_0-logloss:0.368946\n",
            "[36]\tvalidation_0-logloss:0.368089\n",
            "[37]\tvalidation_0-logloss:0.367315\n",
            "[38]\tvalidation_0-logloss:0.365436\n",
            "[39]\tvalidation_0-logloss:0.364647\n",
            "[40]\tvalidation_0-logloss:0.364009\n",
            "[41]\tvalidation_0-logloss:0.362643\n",
            "[42]\tvalidation_0-logloss:0.361005\n",
            "[43]\tvalidation_0-logloss:0.360266\n",
            "[44]\tvalidation_0-logloss:0.359717\n",
            "[45]\tvalidation_0-logloss:0.358615\n",
            "[46]\tvalidation_0-logloss:0.357985\n",
            "[47]\tvalidation_0-logloss:0.357442\n",
            "[48]\tvalidation_0-logloss:0.356997\n",
            "[49]\tvalidation_0-logloss:0.355625\n",
            "[50]\tvalidation_0-logloss:0.354884\n",
            "[51]\tvalidation_0-logloss:0.354264\n",
            "[52]\tvalidation_0-logloss:0.353642\n",
            "[53]\tvalidation_0-logloss:0.352972\n",
            "[54]\tvalidation_0-logloss:0.351793\n",
            "[55]\tvalidation_0-logloss:0.351397\n",
            "[56]\tvalidation_0-logloss:0.350437\n",
            "[57]\tvalidation_0-logloss:0.349414\n",
            "[58]\tvalidation_0-logloss:0.347876\n",
            "[59]\tvalidation_0-logloss:0.347329\n",
            "[60]\tvalidation_0-logloss:0.346619\n",
            "[61]\tvalidation_0-logloss:0.34606\n",
            "[62]\tvalidation_0-logloss:0.345674\n",
            "[63]\tvalidation_0-logloss:0.344422\n",
            "[64]\tvalidation_0-logloss:0.343901\n",
            "[65]\tvalidation_0-logloss:0.343087\n",
            "[66]\tvalidation_0-logloss:0.341754\n",
            "[67]\tvalidation_0-logloss:0.340712\n",
            "[68]\tvalidation_0-logloss:0.340185\n",
            "[69]\tvalidation_0-logloss:0.339008\n",
            "[70]\tvalidation_0-logloss:0.338359\n",
            "[71]\tvalidation_0-logloss:0.337898\n",
            "[72]\tvalidation_0-logloss:0.337392\n",
            "[73]\tvalidation_0-logloss:0.336939\n",
            "[74]\tvalidation_0-logloss:0.336622\n",
            "[75]\tvalidation_0-logloss:0.336208\n",
            "[76]\tvalidation_0-logloss:0.33507\n",
            "[77]\tvalidation_0-logloss:0.334474\n",
            "[78]\tvalidation_0-logloss:0.334056\n",
            "[79]\tvalidation_0-logloss:0.333064\n",
            "[80]\tvalidation_0-logloss:0.332194\n",
            "[81]\tvalidation_0-logloss:0.331791\n",
            "[82]\tvalidation_0-logloss:0.33154\n",
            "[83]\tvalidation_0-logloss:0.331013\n",
            "[84]\tvalidation_0-logloss:0.330857\n",
            "[85]\tvalidation_0-logloss:0.330384\n",
            "[86]\tvalidation_0-logloss:0.329216\n",
            "[87]\tvalidation_0-logloss:0.328448\n",
            "[88]\tvalidation_0-logloss:0.328221\n",
            "[89]\tvalidation_0-logloss:0.327448\n",
            "[90]\tvalidation_0-logloss:0.327309\n",
            "[91]\tvalidation_0-logloss:0.326819\n",
            "[92]\tvalidation_0-logloss:0.325899\n",
            "[93]\tvalidation_0-logloss:0.325688\n",
            "[94]\tvalidation_0-logloss:0.324816\n",
            "[95]\tvalidation_0-logloss:0.324101\n",
            "[96]\tvalidation_0-logloss:0.323882\n",
            "[97]\tvalidation_0-logloss:0.323512\n",
            "[98]\tvalidation_0-logloss:0.322539\n",
            "[99]\tvalidation_0-logloss:0.321845\n",
            "[100]\tvalidation_0-logloss:0.321224\n",
            "[101]\tvalidation_0-logloss:0.320223\n",
            "[102]\tvalidation_0-logloss:0.319452\n",
            "[103]\tvalidation_0-logloss:0.318867\n",
            "[104]\tvalidation_0-logloss:0.31836\n",
            "[105]\tvalidation_0-logloss:0.31813\n",
            "[106]\tvalidation_0-logloss:0.317396\n",
            "[107]\tvalidation_0-logloss:0.316674\n",
            "[108]\tvalidation_0-logloss:0.316549\n",
            "[109]\tvalidation_0-logloss:0.315625\n",
            "[110]\tvalidation_0-logloss:0.314985\n",
            "[111]\tvalidation_0-logloss:0.313976\n",
            "[112]\tvalidation_0-logloss:0.313739\n",
            "[113]\tvalidation_0-logloss:0.313291\n",
            "[114]\tvalidation_0-logloss:0.312505\n",
            "[115]\tvalidation_0-logloss:0.311905\n",
            "[116]\tvalidation_0-logloss:0.311488\n",
            "[117]\tvalidation_0-logloss:0.311053\n",
            "[118]\tvalidation_0-logloss:0.310383\n",
            "[119]\tvalidation_0-logloss:0.309973\n",
            "[120]\tvalidation_0-logloss:0.309589\n",
            "[121]\tvalidation_0-logloss:0.309\n",
            "[122]\tvalidation_0-logloss:0.308292\n",
            "[123]\tvalidation_0-logloss:0.307787\n",
            "[124]\tvalidation_0-logloss:0.307592\n",
            "[125]\tvalidation_0-logloss:0.307327\n",
            "[126]\tvalidation_0-logloss:0.306927\n",
            "[127]\tvalidation_0-logloss:0.30572\n",
            "[128]\tvalidation_0-logloss:0.305279\n",
            "[129]\tvalidation_0-logloss:0.304741\n",
            "[130]\tvalidation_0-logloss:0.304561\n",
            "[131]\tvalidation_0-logloss:0.304417\n",
            "[132]\tvalidation_0-logloss:0.30367\n",
            "[133]\tvalidation_0-logloss:0.303369\n",
            "[134]\tvalidation_0-logloss:0.302844\n",
            "[135]\tvalidation_0-logloss:0.302192\n",
            "[136]\tvalidation_0-logloss:0.301869\n",
            "[137]\tvalidation_0-logloss:0.301378\n",
            "[138]\tvalidation_0-logloss:0.300935\n",
            "[139]\tvalidation_0-logloss:0.300759\n",
            "[140]\tvalidation_0-logloss:0.300206\n",
            "[141]\tvalidation_0-logloss:0.299976\n",
            "[142]\tvalidation_0-logloss:0.299519\n",
            "[143]\tvalidation_0-logloss:0.299171\n",
            "[144]\tvalidation_0-logloss:0.299015\n",
            "[145]\tvalidation_0-logloss:0.298888\n",
            "[146]\tvalidation_0-logloss:0.298778\n",
            "[147]\tvalidation_0-logloss:0.2985\n",
            "[148]\tvalidation_0-logloss:0.297905\n",
            "[149]\tvalidation_0-logloss:0.297693\n",
            "[150]\tvalidation_0-logloss:0.297546\n",
            "[151]\tvalidation_0-logloss:0.297445\n",
            "[152]\tvalidation_0-logloss:0.296908\n",
            "[153]\tvalidation_0-logloss:0.296706\n",
            "[154]\tvalidation_0-logloss:0.296604\n",
            "[155]\tvalidation_0-logloss:0.295919\n",
            "[156]\tvalidation_0-logloss:0.295447\n",
            "[157]\tvalidation_0-logloss:0.29517\n",
            "[158]\tvalidation_0-logloss:0.294872\n",
            "[159]\tvalidation_0-logloss:0.294769\n",
            "[160]\tvalidation_0-logloss:0.294341\n",
            "[161]\tvalidation_0-logloss:0.294126\n",
            "[162]\tvalidation_0-logloss:0.294001\n",
            "[163]\tvalidation_0-logloss:0.293581\n",
            "[164]\tvalidation_0-logloss:0.293384\n",
            "[165]\tvalidation_0-logloss:0.293297\n",
            "[166]\tvalidation_0-logloss:0.293008\n",
            "[167]\tvalidation_0-logloss:0.292627\n",
            "[168]\tvalidation_0-logloss:0.29255\n",
            "[169]\tvalidation_0-logloss:0.2919\n",
            "[170]\tvalidation_0-logloss:0.291746\n",
            "[171]\tvalidation_0-logloss:0.291453\n",
            "[172]\tvalidation_0-logloss:0.290871\n",
            "[173]\tvalidation_0-logloss:0.290759\n",
            "[174]\tvalidation_0-logloss:0.290659\n",
            "[175]\tvalidation_0-logloss:0.290499\n",
            "[176]\tvalidation_0-logloss:0.29023\n",
            "[177]\tvalidation_0-logloss:0.289786\n",
            "[178]\tvalidation_0-logloss:0.289479\n",
            "[179]\tvalidation_0-logloss:0.289411\n",
            "[180]\tvalidation_0-logloss:0.2892\n",
            "[181]\tvalidation_0-logloss:0.288607\n",
            "[182]\tvalidation_0-logloss:0.288333\n",
            "[183]\tvalidation_0-logloss:0.287905\n",
            "[184]\tvalidation_0-logloss:0.287522\n",
            "[185]\tvalidation_0-logloss:0.287361\n",
            "[186]\tvalidation_0-logloss:0.287016\n",
            "[187]\tvalidation_0-logloss:0.28676\n",
            "[188]\tvalidation_0-logloss:0.286531\n",
            "[189]\tvalidation_0-logloss:0.28621\n",
            "[190]\tvalidation_0-logloss:0.285917\n",
            "[191]\tvalidation_0-logloss:0.285356\n",
            "[192]\tvalidation_0-logloss:0.285108\n",
            "[193]\tvalidation_0-logloss:0.284879\n",
            "[194]\tvalidation_0-logloss:0.284628\n",
            "[195]\tvalidation_0-logloss:0.284403\n",
            "[196]\tvalidation_0-logloss:0.283884\n",
            "[197]\tvalidation_0-logloss:0.283791\n",
            "[198]\tvalidation_0-logloss:0.283707\n",
            "[199]\tvalidation_0-logloss:0.283551\n",
            "[200]\tvalidation_0-logloss:0.283325\n",
            "[201]\tvalidation_0-logloss:0.283152\n",
            "[202]\tvalidation_0-logloss:0.282955\n",
            "[203]\tvalidation_0-logloss:0.282115\n",
            "[204]\tvalidation_0-logloss:0.281958\n",
            "[205]\tvalidation_0-logloss:0.281666\n",
            "[206]\tvalidation_0-logloss:0.281403\n",
            "[207]\tvalidation_0-logloss:0.280923\n",
            "[208]\tvalidation_0-logloss:0.280706\n",
            "[209]\tvalidation_0-logloss:0.280625\n",
            "[210]\tvalidation_0-logloss:0.280413\n",
            "[211]\tvalidation_0-logloss:0.280296\n",
            "[212]\tvalidation_0-logloss:0.280193\n",
            "[213]\tvalidation_0-logloss:0.280088\n",
            "[214]\tvalidation_0-logloss:0.279995\n",
            "[215]\tvalidation_0-logloss:0.279852\n",
            "[216]\tvalidation_0-logloss:0.27978\n",
            "[217]\tvalidation_0-logloss:0.279484\n",
            "[218]\tvalidation_0-logloss:0.278759\n",
            "[219]\tvalidation_0-logloss:0.27807\n",
            "[220]\tvalidation_0-logloss:0.277382\n",
            "[221]\tvalidation_0-logloss:0.277244\n",
            "[222]\tvalidation_0-logloss:0.277104\n",
            "[223]\tvalidation_0-logloss:0.277012\n",
            "[224]\tvalidation_0-logloss:0.276929\n",
            "[225]\tvalidation_0-logloss:0.27679\n",
            "[226]\tvalidation_0-logloss:0.276551\n",
            "[227]\tvalidation_0-logloss:0.27647\n",
            "[228]\tvalidation_0-logloss:0.276282\n",
            "[229]\tvalidation_0-logloss:0.276214\n",
            "[230]\tvalidation_0-logloss:0.276045\n",
            "[231]\tvalidation_0-logloss:0.275634\n",
            "[232]\tvalidation_0-logloss:0.275319\n",
            "[233]\tvalidation_0-logloss:0.275134\n",
            "[234]\tvalidation_0-logloss:0.274756\n",
            "[235]\tvalidation_0-logloss:0.274671\n",
            "[236]\tvalidation_0-logloss:0.274393\n",
            "[237]\tvalidation_0-logloss:0.27405\n",
            "[238]\tvalidation_0-logloss:0.273871\n",
            "[239]\tvalidation_0-logloss:0.273689\n",
            "[240]\tvalidation_0-logloss:0.273526\n",
            "[241]\tvalidation_0-logloss:0.273404\n",
            "[242]\tvalidation_0-logloss:0.272971\n",
            "[243]\tvalidation_0-logloss:0.272701\n",
            "[244]\tvalidation_0-logloss:0.27244\n",
            "[245]\tvalidation_0-logloss:0.272377\n",
            "[246]\tvalidation_0-logloss:0.272089\n",
            "[247]\tvalidation_0-logloss:0.271508\n",
            "[248]\tvalidation_0-logloss:0.271394\n",
            "[249]\tvalidation_0-logloss:0.270983\n",
            "[250]\tvalidation_0-logloss:0.27091\n",
            "[251]\tvalidation_0-logloss:0.270714\n",
            "[252]\tvalidation_0-logloss:0.270647\n",
            "[253]\tvalidation_0-logloss:0.270588\n",
            "[254]\tvalidation_0-logloss:0.270471\n",
            "[255]\tvalidation_0-logloss:0.270219\n",
            "[256]\tvalidation_0-logloss:0.2697\n",
            "[257]\tvalidation_0-logloss:0.269584\n",
            "[258]\tvalidation_0-logloss:0.269528\n",
            "[259]\tvalidation_0-logloss:0.269421\n",
            "[260]\tvalidation_0-logloss:0.269371\n",
            "[261]\tvalidation_0-logloss:0.269265\n",
            "[262]\tvalidation_0-logloss:0.269085\n",
            "[263]\tvalidation_0-logloss:0.269047\n",
            "[264]\tvalidation_0-logloss:0.268915\n",
            "[265]\tvalidation_0-logloss:0.268642\n",
            "[266]\tvalidation_0-logloss:0.268565\n",
            "[267]\tvalidation_0-logloss:0.268431\n",
            "[268]\tvalidation_0-logloss:0.268103\n",
            "[269]\tvalidation_0-logloss:0.267938\n",
            "[270]\tvalidation_0-logloss:0.267859\n",
            "[271]\tvalidation_0-logloss:0.267789\n",
            "[272]\tvalidation_0-logloss:0.267741\n",
            "[273]\tvalidation_0-logloss:0.267592\n",
            "[274]\tvalidation_0-logloss:0.267349\n",
            "[275]\tvalidation_0-logloss:0.267286\n",
            "[276]\tvalidation_0-logloss:0.267239\n",
            "[277]\tvalidation_0-logloss:0.267179\n",
            "[278]\tvalidation_0-logloss:0.267136\n",
            "[279]\tvalidation_0-logloss:0.266618\n",
            "[280]\tvalidation_0-logloss:0.266557\n",
            "[281]\tvalidation_0-logloss:0.266451\n",
            "[282]\tvalidation_0-logloss:0.266235\n",
            "[283]\tvalidation_0-logloss:0.266161\n",
            "[284]\tvalidation_0-logloss:0.266104\n",
            "[285]\tvalidation_0-logloss:0.265925\n",
            "[286]\tvalidation_0-logloss:0.265802\n",
            "[287]\tvalidation_0-logloss:0.265556\n",
            "[288]\tvalidation_0-logloss:0.265304\n",
            "[289]\tvalidation_0-logloss:0.26509\n",
            "[290]\tvalidation_0-logloss:0.264484\n",
            "[291]\tvalidation_0-logloss:0.264417\n",
            "[292]\tvalidation_0-logloss:0.264361\n",
            "[293]\tvalidation_0-logloss:0.264299\n",
            "[294]\tvalidation_0-logloss:0.263809\n",
            "[295]\tvalidation_0-logloss:0.263756\n",
            "[296]\tvalidation_0-logloss:0.263645\n",
            "[297]\tvalidation_0-logloss:0.263481\n",
            "[298]\tvalidation_0-logloss:0.26329\n",
            "[299]\tvalidation_0-logloss:0.263099\n",
            "[300]\tvalidation_0-logloss:0.263052\n",
            "[301]\tvalidation_0-logloss:0.262836\n",
            "[302]\tvalidation_0-logloss:0.26272\n",
            "[303]\tvalidation_0-logloss:0.262675\n",
            "[304]\tvalidation_0-logloss:0.262463\n",
            "[305]\tvalidation_0-logloss:0.262033\n",
            "[306]\tvalidation_0-logloss:0.261991\n",
            "[307]\tvalidation_0-logloss:0.261942\n",
            "[308]\tvalidation_0-logloss:0.261669\n",
            "[309]\tvalidation_0-logloss:0.261348\n",
            "[310]\tvalidation_0-logloss:0.261285\n",
            "[311]\tvalidation_0-logloss:0.261153\n",
            "[312]\tvalidation_0-logloss:0.261046\n",
            "[313]\tvalidation_0-logloss:0.260586\n",
            "[314]\tvalidation_0-logloss:0.260437\n",
            "[315]\tvalidation_0-logloss:0.259875\n",
            "[316]\tvalidation_0-logloss:0.25983\n",
            "[317]\tvalidation_0-logloss:0.259631\n",
            "[318]\tvalidation_0-logloss:0.259585\n",
            "[319]\tvalidation_0-logloss:0.259542\n",
            "[320]\tvalidation_0-logloss:0.259129\n",
            "[321]\tvalidation_0-logloss:0.259088\n",
            "[322]\tvalidation_0-logloss:0.259045\n",
            "[323]\tvalidation_0-logloss:0.258591\n",
            "[324]\tvalidation_0-logloss:0.258308\n",
            "[325]\tvalidation_0-logloss:0.258262\n",
            "[326]\tvalidation_0-logloss:0.258065\n",
            "[327]\tvalidation_0-logloss:0.257995\n",
            "[328]\tvalidation_0-logloss:0.25795\n",
            "[329]\tvalidation_0-logloss:0.257913\n",
            "[330]\tvalidation_0-logloss:0.257731\n",
            "[331]\tvalidation_0-logloss:0.257467\n",
            "[332]\tvalidation_0-logloss:0.25736\n",
            "[333]\tvalidation_0-logloss:0.257261\n",
            "[334]\tvalidation_0-logloss:0.257217\n",
            "[335]\tvalidation_0-logloss:0.257058\n",
            "[336]\tvalidation_0-logloss:0.256923\n",
            "[337]\tvalidation_0-logloss:0.256882\n",
            "[338]\tvalidation_0-logloss:0.256685\n",
            "[339]\tvalidation_0-logloss:0.256419\n",
            "[340]\tvalidation_0-logloss:0.256323\n",
            "[341]\tvalidation_0-logloss:0.256158\n",
            "[342]\tvalidation_0-logloss:0.255985\n",
            "[343]\tvalidation_0-logloss:0.255606\n",
            "[344]\tvalidation_0-logloss:0.255569\n",
            "[345]\tvalidation_0-logloss:0.255526\n",
            "[346]\tvalidation_0-logloss:0.255229\n",
            "[347]\tvalidation_0-logloss:0.254955\n",
            "[348]\tvalidation_0-logloss:0.25486\n",
            "[349]\tvalidation_0-logloss:0.254667\n",
            "[350]\tvalidation_0-logloss:0.254424\n",
            "[351]\tvalidation_0-logloss:0.254305\n",
            "[352]\tvalidation_0-logloss:0.254202\n",
            "[353]\tvalidation_0-logloss:0.25414\n",
            "[354]\tvalidation_0-logloss:0.254095\n",
            "[355]\tvalidation_0-logloss:0.254058\n",
            "[356]\tvalidation_0-logloss:0.254018\n",
            "[357]\tvalidation_0-logloss:0.25392\n",
            "[358]\tvalidation_0-logloss:0.25388\n",
            "[359]\tvalidation_0-logloss:0.253816\n",
            "[360]\tvalidation_0-logloss:0.253779\n",
            "[361]\tvalidation_0-logloss:0.253557\n",
            "[362]\tvalidation_0-logloss:0.253523\n",
            "[363]\tvalidation_0-logloss:0.253345\n",
            "[364]\tvalidation_0-logloss:0.253146\n",
            "[365]\tvalidation_0-logloss:0.253014\n",
            "[366]\tvalidation_0-logloss:0.252875\n",
            "[367]\tvalidation_0-logloss:0.252784\n",
            "[368]\tvalidation_0-logloss:0.252745\n",
            "[369]\tvalidation_0-logloss:0.252632\n",
            "[370]\tvalidation_0-logloss:0.252499\n",
            "[371]\tvalidation_0-logloss:0.252462\n",
            "[372]\tvalidation_0-logloss:0.252425\n",
            "[373]\tvalidation_0-logloss:0.252251\n",
            "[374]\tvalidation_0-logloss:0.251858\n",
            "[375]\tvalidation_0-logloss:0.251647\n",
            "[376]\tvalidation_0-logloss:0.251589\n",
            "[377]\tvalidation_0-logloss:0.251544\n",
            "[378]\tvalidation_0-logloss:0.251505\n",
            "[379]\tvalidation_0-logloss:0.251418\n",
            "[380]\tvalidation_0-logloss:0.251383\n",
            "[381]\tvalidation_0-logloss:0.251276\n",
            "[382]\tvalidation_0-logloss:0.251241\n",
            "[383]\tvalidation_0-logloss:0.250983\n",
            "[384]\tvalidation_0-logloss:0.250741\n",
            "[385]\tvalidation_0-logloss:0.250653\n",
            "[386]\tvalidation_0-logloss:0.25054\n",
            "[387]\tvalidation_0-logloss:0.250507\n",
            "[388]\tvalidation_0-logloss:0.250444\n",
            "[389]\tvalidation_0-logloss:0.250316\n",
            "[390]\tvalidation_0-logloss:0.250283\n",
            "[391]\tvalidation_0-logloss:0.250184\n",
            "[392]\tvalidation_0-logloss:0.250125\n",
            "[393]\tvalidation_0-logloss:0.250092\n",
            "[394]\tvalidation_0-logloss:0.249695\n",
            "[395]\tvalidation_0-logloss:0.249662\n",
            "[396]\tvalidation_0-logloss:0.249571\n",
            "[397]\tvalidation_0-logloss:0.249394\n",
            "[398]\tvalidation_0-logloss:0.249357\n",
            "[399]\tvalidation_0-logloss:0.249328\n",
            "총 268명 중 85.07% 정확도로 생존을 맞춤\n"
          ],
          "name": "stdout"
        }
      ]
    },
    {
      "cell_type": "code",
      "metadata": {
        "id": "jnCL95y-EUxy",
        "colab_type": "code",
        "colab": {}
      },
      "source": [
        ""
      ],
      "execution_count": 0,
      "outputs": []
    }
  ]
}