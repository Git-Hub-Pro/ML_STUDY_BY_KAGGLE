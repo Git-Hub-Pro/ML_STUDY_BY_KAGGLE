{
  "nbformat": 4,
  "nbformat_minor": 0,
  "metadata": {
    "colab": {
      "name": "Titanic_tutorial2.ipynb",
      "provenance": [],
      "collapsed_sections": [],
      "authorship_tag": "ABX9TyN0JKDxlD5zyl2ZwE7Ypu04",
      "include_colab_link": true
    },
    "kernelspec": {
      "name": "python3",
      "display_name": "Python 3"
    }
  },
  "cells": [
    {
      "cell_type": "markdown",
      "metadata": {
        "id": "view-in-github",
        "colab_type": "text"
      },
      "source": [
        "<a href=\"https://colab.research.google.com/github/Git-Hub-Pro/ML_STUDY_BY_KAGGLE/blob/master/Titanic_tutorial2.ipynb\" target=\"_parent\"><img src=\"https://colab.research.google.com/assets/colab-badge.svg\" alt=\"Open In Colab\"/></a>"
      ]
    },
    {
      "cell_type": "code",
      "metadata": {
        "id": "1Sz2YPa_-4z7",
        "colab_type": "code",
        "colab": {}
      },
      "source": [
        "from google.colab import drive\n",
        "drive.mount('/content/gdrive/')"
      ],
      "execution_count": 0,
      "outputs": []
    },
    {
      "cell_type": "code",
      "metadata": {
        "id": "mlBd_QJR-_m4",
        "colab_type": "code",
        "outputId": "fedad8c9-5267-4584-eb7f-2fdeedb33bc7",
        "colab": {
          "base_uri": "https://localhost:8080/",
          "height": 17
        }
      },
      "source": [
        "import numpy as np\n",
        "import pandas as pd\n",
        "from pandas import Series\n",
        "import matplotlib.pyplot as plt\n",
        "import seaborn as sns\n",
        "\n",
        "plt.style.use('seaborn')\n",
        "sns.set(font_scale=2.5)\n",
        "\n",
        "import plotly.offline as py\n",
        "py.init_notebook_mode(connected=True)\n",
        "\n",
        "import plotly.graph_objs as go\n",
        "import plotly.tools as tls\n",
        "\n",
        "# ignore warnings\n",
        "import warnings\n",
        "warnings.filterwarnings('ignore')\n",
        "\n",
        "%matplotlib inline"
      ],
      "execution_count": 0,
      "outputs": [
        {
          "output_type": "display_data",
          "data": {
            "text/html": [
              "        <script type=\"text/javascript\">\n",
              "        window.PlotlyConfig = {MathJaxConfig: 'local'};\n",
              "        if (window.MathJax) {MathJax.Hub.Config({SVG: {font: \"STIX-Web\"}});}\n",
              "        if (typeof require !== 'undefined') {\n",
              "        require.undef(\"plotly\");\n",
              "        requirejs.config({\n",
              "            paths: {\n",
              "                'plotly': ['https://cdn.plot.ly/plotly-latest.min']\n",
              "            }\n",
              "        });\n",
              "        require(['plotly'], function(Plotly) {\n",
              "            window._Plotly = Plotly;\n",
              "        });\n",
              "        }\n",
              "        </script>\n",
              "        "
            ]
          },
          "metadata": {
            "tags": []
          }
        }
      ]
    },
    {
      "cell_type": "code",
      "metadata": {
        "id": "QD9_q1bc_zyC",
        "colab_type": "code",
        "colab": {}
      },
      "source": [
        "df_train = pd.read_csv(\"/content/gdrive/My Drive/data/kaggle_data/train.csv\")\n",
        "df_test  = pd.read_csv(\"/content/gdrive/My Drive/data/kaggle_data/test.csv\")"
      ],
      "execution_count": 0,
      "outputs": []
    },
    {
      "cell_type": "code",
      "metadata": {
        "id": "p0Oojmbp_31s",
        "colab_type": "code",
        "colab": {}
      },
      "source": [
        "df_train['FamilySize'] = df_train['SibSp'] + df_train['Parch'] + 1 # 자신을 포함해야하니 1을 더합니다\n",
        "df_test['FamilySize'] = df_test['SibSp'] + df_test['Parch'] + 1 # 자신을 포함해야하니 1을 더합니다\n",
        "\n",
        "df_test.loc[df_test.Fare.isnull(), 'Fare'] = df_test['Fare'].mean()\n",
        "\n",
        "df_train['Fare'] = df_train['Fare'].map(lambda i: np.log(i) if i > 0 else 0)\n",
        "df_test['Fare'] = df_test['Fare'].map(lambda i: np.log(i) if i > 0 else 0)"
      ],
      "execution_count": 0,
      "outputs": []
    },
    {
      "cell_type": "code",
      "metadata": {
        "id": "av1EX4P_B3AI",
        "colab_type": "code",
        "colab": {}
      },
      "source": [
        "# Age에는 null data 가 177개나 있습니다. 이를 채울 수 있는 여러 아이디어가 있을 것인데, 여기서 우리느ㄴ title + statistics를 사용해 보겠습니다.\n",
        "# 영어에는 Miss , Mrr, Mrs 같은 title이 들어가게 되는데 이를 사용해 보겠습니다.\n",
        "# pandas series 에는 data 를 string 으로 바꿔주는 str method, 거기에 정규표현식을 적용하게 해주는 extract method 가 있습니다.\n",
        "# 거기에 정규표현식을 적용하게 해주는 extract method 가 있습니다. 이를 사용하여 title을 쉽게 추출할 수 있습니다. title 을 Initial column에 저장하겠습니다."
      ],
      "execution_count": 0,
      "outputs": []
    },
    {
      "cell_type": "code",
      "metadata": {
        "id": "YVuLW5IZCx2U",
        "colab_type": "code",
        "colab": {}
      },
      "source": [
        "df_train['Initial']= df_train.Name.str.extract('([A-Za-z]+)\\.') #lets extract the Salutations\n",
        "df_test['Initial']= df_test.Name.str.extract('([A-Za-z]+)\\.') #lets extract the Salutations"
      ],
      "execution_count": 0,
      "outputs": []
    },
    {
      "cell_type": "code",
      "metadata": {
        "id": "cUcveaCPDcqi",
        "colab_type": "code",
        "colab": {}
      },
      "source": [
        "# pandas 의 crosstab 을 이용하여 우리가 추출한 Initial 과 Sex간의 count를 살펴봅시다."
      ],
      "execution_count": 0,
      "outputs": []
    },
    {
      "cell_type": "code",
      "metadata": {
        "id": "lh4zmONaDmqK",
        "colab_type": "code",
        "outputId": "dfa59468-4aa5-4053-e4fa-c83191b13d62",
        "colab": {
          "base_uri": "https://localhost:8080/",
          "height": 104
        }
      },
      "source": [
        "pd.crosstab(df_train['Initial'],df_train['Sex']).T.style.background_gradient(cmap='summer_r')\n",
        "# cheking the Initials with the Sex"
      ],
      "execution_count": 0,
      "outputs": [
        {
          "output_type": "execute_result",
          "data": {
            "text/html": [
              "<style  type=\"text/css\" >\n",
              "    #T_4d1721d6_5003_11ea_ba4d_0242ac1c0002row0_col0 {\n",
              "            background-color:  #ffff66;\n",
              "            color:  #000000;\n",
              "        }    #T_4d1721d6_5003_11ea_ba4d_0242ac1c0002row0_col1 {\n",
              "            background-color:  #ffff66;\n",
              "            color:  #000000;\n",
              "        }    #T_4d1721d6_5003_11ea_ba4d_0242ac1c0002row0_col2 {\n",
              "            background-color:  #008066;\n",
              "            color:  #f1f1f1;\n",
              "        }    #T_4d1721d6_5003_11ea_ba4d_0242ac1c0002row0_col3 {\n",
              "            background-color:  #ffff66;\n",
              "            color:  #000000;\n",
              "        }    #T_4d1721d6_5003_11ea_ba4d_0242ac1c0002row0_col4 {\n",
              "            background-color:  #ffff66;\n",
              "            color:  #000000;\n",
              "        }    #T_4d1721d6_5003_11ea_ba4d_0242ac1c0002row0_col5 {\n",
              "            background-color:  #ffff66;\n",
              "            color:  #000000;\n",
              "        }    #T_4d1721d6_5003_11ea_ba4d_0242ac1c0002row0_col6 {\n",
              "            background-color:  #008066;\n",
              "            color:  #f1f1f1;\n",
              "        }    #T_4d1721d6_5003_11ea_ba4d_0242ac1c0002row0_col7 {\n",
              "            background-color:  #ffff66;\n",
              "            color:  #000000;\n",
              "        }    #T_4d1721d6_5003_11ea_ba4d_0242ac1c0002row0_col8 {\n",
              "            background-color:  #ffff66;\n",
              "            color:  #000000;\n",
              "        }    #T_4d1721d6_5003_11ea_ba4d_0242ac1c0002row0_col9 {\n",
              "            background-color:  #008066;\n",
              "            color:  #f1f1f1;\n",
              "        }    #T_4d1721d6_5003_11ea_ba4d_0242ac1c0002row0_col10 {\n",
              "            background-color:  #008066;\n",
              "            color:  #f1f1f1;\n",
              "        }    #T_4d1721d6_5003_11ea_ba4d_0242ac1c0002row0_col11 {\n",
              "            background-color:  #008066;\n",
              "            color:  #f1f1f1;\n",
              "        }    #T_4d1721d6_5003_11ea_ba4d_0242ac1c0002row0_col12 {\n",
              "            background-color:  #ffff66;\n",
              "            color:  #000000;\n",
              "        }    #T_4d1721d6_5003_11ea_ba4d_0242ac1c0002row0_col13 {\n",
              "            background-color:  #008066;\n",
              "            color:  #f1f1f1;\n",
              "        }    #T_4d1721d6_5003_11ea_ba4d_0242ac1c0002row0_col14 {\n",
              "            background-color:  #008066;\n",
              "            color:  #f1f1f1;\n",
              "        }    #T_4d1721d6_5003_11ea_ba4d_0242ac1c0002row0_col15 {\n",
              "            background-color:  #ffff66;\n",
              "            color:  #000000;\n",
              "        }    #T_4d1721d6_5003_11ea_ba4d_0242ac1c0002row0_col16 {\n",
              "            background-color:  #ffff66;\n",
              "            color:  #000000;\n",
              "        }    #T_4d1721d6_5003_11ea_ba4d_0242ac1c0002row1_col0 {\n",
              "            background-color:  #008066;\n",
              "            color:  #f1f1f1;\n",
              "        }    #T_4d1721d6_5003_11ea_ba4d_0242ac1c0002row1_col1 {\n",
              "            background-color:  #008066;\n",
              "            color:  #f1f1f1;\n",
              "        }    #T_4d1721d6_5003_11ea_ba4d_0242ac1c0002row1_col2 {\n",
              "            background-color:  #ffff66;\n",
              "            color:  #000000;\n",
              "        }    #T_4d1721d6_5003_11ea_ba4d_0242ac1c0002row1_col3 {\n",
              "            background-color:  #008066;\n",
              "            color:  #f1f1f1;\n",
              "        }    #T_4d1721d6_5003_11ea_ba4d_0242ac1c0002row1_col4 {\n",
              "            background-color:  #008066;\n",
              "            color:  #f1f1f1;\n",
              "        }    #T_4d1721d6_5003_11ea_ba4d_0242ac1c0002row1_col5 {\n",
              "            background-color:  #008066;\n",
              "            color:  #f1f1f1;\n",
              "        }    #T_4d1721d6_5003_11ea_ba4d_0242ac1c0002row1_col6 {\n",
              "            background-color:  #ffff66;\n",
              "            color:  #000000;\n",
              "        }    #T_4d1721d6_5003_11ea_ba4d_0242ac1c0002row1_col7 {\n",
              "            background-color:  #008066;\n",
              "            color:  #f1f1f1;\n",
              "        }    #T_4d1721d6_5003_11ea_ba4d_0242ac1c0002row1_col8 {\n",
              "            background-color:  #008066;\n",
              "            color:  #f1f1f1;\n",
              "        }    #T_4d1721d6_5003_11ea_ba4d_0242ac1c0002row1_col9 {\n",
              "            background-color:  #ffff66;\n",
              "            color:  #000000;\n",
              "        }    #T_4d1721d6_5003_11ea_ba4d_0242ac1c0002row1_col10 {\n",
              "            background-color:  #ffff66;\n",
              "            color:  #000000;\n",
              "        }    #T_4d1721d6_5003_11ea_ba4d_0242ac1c0002row1_col11 {\n",
              "            background-color:  #ffff66;\n",
              "            color:  #000000;\n",
              "        }    #T_4d1721d6_5003_11ea_ba4d_0242ac1c0002row1_col12 {\n",
              "            background-color:  #008066;\n",
              "            color:  #f1f1f1;\n",
              "        }    #T_4d1721d6_5003_11ea_ba4d_0242ac1c0002row1_col13 {\n",
              "            background-color:  #ffff66;\n",
              "            color:  #000000;\n",
              "        }    #T_4d1721d6_5003_11ea_ba4d_0242ac1c0002row1_col14 {\n",
              "            background-color:  #ffff66;\n",
              "            color:  #000000;\n",
              "        }    #T_4d1721d6_5003_11ea_ba4d_0242ac1c0002row1_col15 {\n",
              "            background-color:  #008066;\n",
              "            color:  #f1f1f1;\n",
              "        }    #T_4d1721d6_5003_11ea_ba4d_0242ac1c0002row1_col16 {\n",
              "            background-color:  #008066;\n",
              "            color:  #f1f1f1;\n",
              "        }</style><table id=\"T_4d1721d6_5003_11ea_ba4d_0242ac1c0002\" ><thead>    <tr>        <th class=\"index_name level0\" >Initial</th>        <th class=\"col_heading level0 col0\" >Capt</th>        <th class=\"col_heading level0 col1\" >Col</th>        <th class=\"col_heading level0 col2\" >Countess</th>        <th class=\"col_heading level0 col3\" >Don</th>        <th class=\"col_heading level0 col4\" >Dr</th>        <th class=\"col_heading level0 col5\" >Jonkheer</th>        <th class=\"col_heading level0 col6\" >Lady</th>        <th class=\"col_heading level0 col7\" >Major</th>        <th class=\"col_heading level0 col8\" >Master</th>        <th class=\"col_heading level0 col9\" >Miss</th>        <th class=\"col_heading level0 col10\" >Mlle</th>        <th class=\"col_heading level0 col11\" >Mme</th>        <th class=\"col_heading level0 col12\" >Mr</th>        <th class=\"col_heading level0 col13\" >Mrs</th>        <th class=\"col_heading level0 col14\" >Ms</th>        <th class=\"col_heading level0 col15\" >Rev</th>        <th class=\"col_heading level0 col16\" >Sir</th>    </tr>    <tr>        <th class=\"index_name level0\" >Sex</th>        <th class=\"blank\" ></th>        <th class=\"blank\" ></th>        <th class=\"blank\" ></th>        <th class=\"blank\" ></th>        <th class=\"blank\" ></th>        <th class=\"blank\" ></th>        <th class=\"blank\" ></th>        <th class=\"blank\" ></th>        <th class=\"blank\" ></th>        <th class=\"blank\" ></th>        <th class=\"blank\" ></th>        <th class=\"blank\" ></th>        <th class=\"blank\" ></th>        <th class=\"blank\" ></th>        <th class=\"blank\" ></th>        <th class=\"blank\" ></th>        <th class=\"blank\" ></th>    </tr></thead><tbody>\n",
              "                <tr>\n",
              "                        <th id=\"T_4d1721d6_5003_11ea_ba4d_0242ac1c0002level0_row0\" class=\"row_heading level0 row0\" >female</th>\n",
              "                        <td id=\"T_4d1721d6_5003_11ea_ba4d_0242ac1c0002row0_col0\" class=\"data row0 col0\" >0</td>\n",
              "                        <td id=\"T_4d1721d6_5003_11ea_ba4d_0242ac1c0002row0_col1\" class=\"data row0 col1\" >0</td>\n",
              "                        <td id=\"T_4d1721d6_5003_11ea_ba4d_0242ac1c0002row0_col2\" class=\"data row0 col2\" >1</td>\n",
              "                        <td id=\"T_4d1721d6_5003_11ea_ba4d_0242ac1c0002row0_col3\" class=\"data row0 col3\" >0</td>\n",
              "                        <td id=\"T_4d1721d6_5003_11ea_ba4d_0242ac1c0002row0_col4\" class=\"data row0 col4\" >1</td>\n",
              "                        <td id=\"T_4d1721d6_5003_11ea_ba4d_0242ac1c0002row0_col5\" class=\"data row0 col5\" >0</td>\n",
              "                        <td id=\"T_4d1721d6_5003_11ea_ba4d_0242ac1c0002row0_col6\" class=\"data row0 col6\" >1</td>\n",
              "                        <td id=\"T_4d1721d6_5003_11ea_ba4d_0242ac1c0002row0_col7\" class=\"data row0 col7\" >0</td>\n",
              "                        <td id=\"T_4d1721d6_5003_11ea_ba4d_0242ac1c0002row0_col8\" class=\"data row0 col8\" >0</td>\n",
              "                        <td id=\"T_4d1721d6_5003_11ea_ba4d_0242ac1c0002row0_col9\" class=\"data row0 col9\" >182</td>\n",
              "                        <td id=\"T_4d1721d6_5003_11ea_ba4d_0242ac1c0002row0_col10\" class=\"data row0 col10\" >2</td>\n",
              "                        <td id=\"T_4d1721d6_5003_11ea_ba4d_0242ac1c0002row0_col11\" class=\"data row0 col11\" >1</td>\n",
              "                        <td id=\"T_4d1721d6_5003_11ea_ba4d_0242ac1c0002row0_col12\" class=\"data row0 col12\" >0</td>\n",
              "                        <td id=\"T_4d1721d6_5003_11ea_ba4d_0242ac1c0002row0_col13\" class=\"data row0 col13\" >125</td>\n",
              "                        <td id=\"T_4d1721d6_5003_11ea_ba4d_0242ac1c0002row0_col14\" class=\"data row0 col14\" >1</td>\n",
              "                        <td id=\"T_4d1721d6_5003_11ea_ba4d_0242ac1c0002row0_col15\" class=\"data row0 col15\" >0</td>\n",
              "                        <td id=\"T_4d1721d6_5003_11ea_ba4d_0242ac1c0002row0_col16\" class=\"data row0 col16\" >0</td>\n",
              "            </tr>\n",
              "            <tr>\n",
              "                        <th id=\"T_4d1721d6_5003_11ea_ba4d_0242ac1c0002level0_row1\" class=\"row_heading level0 row1\" >male</th>\n",
              "                        <td id=\"T_4d1721d6_5003_11ea_ba4d_0242ac1c0002row1_col0\" class=\"data row1 col0\" >1</td>\n",
              "                        <td id=\"T_4d1721d6_5003_11ea_ba4d_0242ac1c0002row1_col1\" class=\"data row1 col1\" >2</td>\n",
              "                        <td id=\"T_4d1721d6_5003_11ea_ba4d_0242ac1c0002row1_col2\" class=\"data row1 col2\" >0</td>\n",
              "                        <td id=\"T_4d1721d6_5003_11ea_ba4d_0242ac1c0002row1_col3\" class=\"data row1 col3\" >1</td>\n",
              "                        <td id=\"T_4d1721d6_5003_11ea_ba4d_0242ac1c0002row1_col4\" class=\"data row1 col4\" >6</td>\n",
              "                        <td id=\"T_4d1721d6_5003_11ea_ba4d_0242ac1c0002row1_col5\" class=\"data row1 col5\" >1</td>\n",
              "                        <td id=\"T_4d1721d6_5003_11ea_ba4d_0242ac1c0002row1_col6\" class=\"data row1 col6\" >0</td>\n",
              "                        <td id=\"T_4d1721d6_5003_11ea_ba4d_0242ac1c0002row1_col7\" class=\"data row1 col7\" >2</td>\n",
              "                        <td id=\"T_4d1721d6_5003_11ea_ba4d_0242ac1c0002row1_col8\" class=\"data row1 col8\" >40</td>\n",
              "                        <td id=\"T_4d1721d6_5003_11ea_ba4d_0242ac1c0002row1_col9\" class=\"data row1 col9\" >0</td>\n",
              "                        <td id=\"T_4d1721d6_5003_11ea_ba4d_0242ac1c0002row1_col10\" class=\"data row1 col10\" >0</td>\n",
              "                        <td id=\"T_4d1721d6_5003_11ea_ba4d_0242ac1c0002row1_col11\" class=\"data row1 col11\" >0</td>\n",
              "                        <td id=\"T_4d1721d6_5003_11ea_ba4d_0242ac1c0002row1_col12\" class=\"data row1 col12\" >517</td>\n",
              "                        <td id=\"T_4d1721d6_5003_11ea_ba4d_0242ac1c0002row1_col13\" class=\"data row1 col13\" >0</td>\n",
              "                        <td id=\"T_4d1721d6_5003_11ea_ba4d_0242ac1c0002row1_col14\" class=\"data row1 col14\" >0</td>\n",
              "                        <td id=\"T_4d1721d6_5003_11ea_ba4d_0242ac1c0002row1_col15\" class=\"data row1 col15\" >6</td>\n",
              "                        <td id=\"T_4d1721d6_5003_11ea_ba4d_0242ac1c0002row1_col16\" class=\"data row1 col16\" >1</td>\n",
              "            </tr>\n",
              "    </tbody></table>"
            ],
            "text/plain": [
              "<pandas.io.formats.style.Styler at 0x7f3df8b07240>"
            ]
          },
          "metadata": {
            "tags": []
          },
          "execution_count": 301
        }
      ]
    },
    {
      "cell_type": "code",
      "metadata": {
        "id": "jehsgE_KD6jo",
        "colab_type": "code",
        "colab": {}
      },
      "source": [
        "df_train['Initial'].replace(['Mlle','Mme','Ms','Dr','Major','Lady','Countess','Jonkheer','Col','Rev','Capt','Sir','Don', 'Dona'],\n",
        "                        ['Miss','Miss','Miss','Mr','Mr','Mrs','Mrs','Other','Other','Other','Mr','Mr','Mr', 'Mr'],inplace=True)\n",
        "df_test['Initial'].replace(['Mlle','Mme','Ms','Dr','Major','Lady','Countess','Jonkheer','Col','Rev','Capt','Sir','Don', 'Dona'],\n",
        "                        ['Miss','Miss','Miss','Mr','Mr','Mrs','Mrs','Other','Other','Other','Mr','Mr','Mr', 'Mr'],inplace=True)"
      ],
      "execution_count": 0,
      "outputs": []
    },
    {
      "cell_type": "code",
      "metadata": {
        "id": "wjtgcxJcE87F",
        "colab_type": "code",
        "outputId": "7d0bf4f3-8d8b-43cc-c53c-8a6a08a5940e",
        "colab": {
          "base_uri": "https://localhost:8080/",
          "height": 238
        }
      },
      "source": [
        "df_train.groupby('Initial').mean()"
      ],
      "execution_count": 0,
      "outputs": [
        {
          "output_type": "execute_result",
          "data": {
            "text/html": [
              "<div>\n",
              "<style scoped>\n",
              "    .dataframe tbody tr th:only-of-type {\n",
              "        vertical-align: middle;\n",
              "    }\n",
              "\n",
              "    .dataframe tbody tr th {\n",
              "        vertical-align: top;\n",
              "    }\n",
              "\n",
              "    .dataframe thead th {\n",
              "        text-align: right;\n",
              "    }\n",
              "</style>\n",
              "<table border=\"1\" class=\"dataframe\">\n",
              "  <thead>\n",
              "    <tr style=\"text-align: right;\">\n",
              "      <th></th>\n",
              "      <th>PassengerId</th>\n",
              "      <th>Survived</th>\n",
              "      <th>Pclass</th>\n",
              "      <th>Age</th>\n",
              "      <th>SibSp</th>\n",
              "      <th>Parch</th>\n",
              "      <th>Fare</th>\n",
              "      <th>FamilySize</th>\n",
              "    </tr>\n",
              "    <tr>\n",
              "      <th>Initial</th>\n",
              "      <th></th>\n",
              "      <th></th>\n",
              "      <th></th>\n",
              "      <th></th>\n",
              "      <th></th>\n",
              "      <th></th>\n",
              "      <th></th>\n",
              "      <th></th>\n",
              "    </tr>\n",
              "  </thead>\n",
              "  <tbody>\n",
              "    <tr>\n",
              "      <th>Master</th>\n",
              "      <td>414.975000</td>\n",
              "      <td>0.575000</td>\n",
              "      <td>2.625000</td>\n",
              "      <td>4.574167</td>\n",
              "      <td>2.300000</td>\n",
              "      <td>1.375000</td>\n",
              "      <td>3.340710</td>\n",
              "      <td>4.675000</td>\n",
              "    </tr>\n",
              "    <tr>\n",
              "      <th>Miss</th>\n",
              "      <td>411.741935</td>\n",
              "      <td>0.704301</td>\n",
              "      <td>2.284946</td>\n",
              "      <td>21.860000</td>\n",
              "      <td>0.698925</td>\n",
              "      <td>0.537634</td>\n",
              "      <td>3.123713</td>\n",
              "      <td>2.236559</td>\n",
              "    </tr>\n",
              "    <tr>\n",
              "      <th>Mr</th>\n",
              "      <td>455.880907</td>\n",
              "      <td>0.162571</td>\n",
              "      <td>2.381853</td>\n",
              "      <td>32.739609</td>\n",
              "      <td>0.293006</td>\n",
              "      <td>0.151229</td>\n",
              "      <td>2.651507</td>\n",
              "      <td>1.444234</td>\n",
              "    </tr>\n",
              "    <tr>\n",
              "      <th>Mrs</th>\n",
              "      <td>456.393701</td>\n",
              "      <td>0.795276</td>\n",
              "      <td>1.984252</td>\n",
              "      <td>35.981818</td>\n",
              "      <td>0.692913</td>\n",
              "      <td>0.818898</td>\n",
              "      <td>3.443751</td>\n",
              "      <td>2.511811</td>\n",
              "    </tr>\n",
              "    <tr>\n",
              "      <th>Other</th>\n",
              "      <td>564.444444</td>\n",
              "      <td>0.111111</td>\n",
              "      <td>1.666667</td>\n",
              "      <td>45.888889</td>\n",
              "      <td>0.111111</td>\n",
              "      <td>0.111111</td>\n",
              "      <td>2.641605</td>\n",
              "      <td>1.222222</td>\n",
              "    </tr>\n",
              "  </tbody>\n",
              "</table>\n",
              "</div>"
            ],
            "text/plain": [
              "         PassengerId  Survived    Pclass  ...     Parch      Fare  FamilySize\n",
              "Initial                                   ...                                \n",
              "Master    414.975000  0.575000  2.625000  ...  1.375000  3.340710    4.675000\n",
              "Miss      411.741935  0.704301  2.284946  ...  0.537634  3.123713    2.236559\n",
              "Mr        455.880907  0.162571  2.381853  ...  0.151229  2.651507    1.444234\n",
              "Mrs       456.393701  0.795276  1.984252  ...  0.818898  3.443751    2.511811\n",
              "Other     564.444444  0.111111  1.666667  ...  0.111111  2.641605    1.222222\n",
              "\n",
              "[5 rows x 8 columns]"
            ]
          },
          "metadata": {
            "tags": []
          },
          "execution_count": 303
        }
      ]
    },
    {
      "cell_type": "code",
      "metadata": {
        "id": "oXKTijI0FBkA",
        "colab_type": "code",
        "outputId": "9f201fdc-2304-4624-d4e5-6102748fd128",
        "colab": {
          "base_uri": "https://localhost:8080/",
          "height": 405
        }
      },
      "source": [
        "df_train.groupby('Initial')['Survived'].mean().plot.bar()"
      ],
      "execution_count": 0,
      "outputs": [
        {
          "output_type": "execute_result",
          "data": {
            "text/plain": [
              "<matplotlib.axes._subplots.AxesSubplot at 0x7f3df8b2b278>"
            ]
          },
          "metadata": {
            "tags": []
          },
          "execution_count": 304
        },
        {
          "output_type": "display_data",
          "data": {
            "image/png": "[encoded data removed]",
            "text/plain": [
              "<Figure size 432x288 with 1 Axes>"
            ]
          },
          "metadata": {
            "tags": []
          }
        }
      ]
    },
    {
      "cell_type": "code",
      "metadata": {
        "id": "dnAyCwmZFWvR",
        "colab_type": "code",
        "colab": {}
      },
      "source": [
        "# null data를 채우느ㄴ 방법은 정말 많이 존재합니다. statistics를 활용하는 방법도 있고, null data가 없는 데이터르ㄹ 기반으로 새로운\n",
        "# 머신러닝 알고리즘을 만들어 예측해서 채워넣는 방식도 있습니다. 여기서는 statistics를 활용하는 방법을 사용할 것입니다.\n",
        "# 여기서 statistics는 train data의 것을 의미합니다. 우리는 언제나 test를 unseen 으로 둔 상태로 놔둬야 하며, train에서 얻은 statistics를 기반으로\n",
        "# test의 null data를 채워줘야 합니다."
      ],
      "execution_count": 0,
      "outputs": []
    },
    {
      "cell_type": "code",
      "metadata": {
        "id": "eodbLpM0GDx1",
        "colab_type": "code",
        "outputId": "64e5e9bc-f68b-470c-a803-06a1197e3616",
        "colab": {
          "base_uri": "https://localhost:8080/",
          "height": 238
        }
      },
      "source": [
        "df_train.groupby('Initial').mean()"
      ],
      "execution_count": 0,
      "outputs": [
        {
          "output_type": "execute_result",
          "data": {
            "text/html": [
              "<div>\n",
              "<style scoped>\n",
              "    .dataframe tbody tr th:only-of-type {\n",
              "        vertical-align: middle;\n",
              "    }\n",
              "\n",
              "    .dataframe tbody tr th {\n",
              "        vertical-align: top;\n",
              "    }\n",
              "\n",
              "    .dataframe thead th {\n",
              "        text-align: right;\n",
              "    }\n",
              "</style>\n",
              "<table border=\"1\" class=\"dataframe\">\n",
              "  <thead>\n",
              "    <tr style=\"text-align: right;\">\n",
              "      <th></th>\n",
              "      <th>PassengerId</th>\n",
              "      <th>Survived</th>\n",
              "      <th>Pclass</th>\n",
              "      <th>Age</th>\n",
              "      <th>SibSp</th>\n",
              "      <th>Parch</th>\n",
              "      <th>Fare</th>\n",
              "      <th>FamilySize</th>\n",
              "    </tr>\n",
              "    <tr>\n",
              "      <th>Initial</th>\n",
              "      <th></th>\n",
              "      <th></th>\n",
              "      <th></th>\n",
              "      <th></th>\n",
              "      <th></th>\n",
              "      <th></th>\n",
              "      <th></th>\n",
              "      <th></th>\n",
              "    </tr>\n",
              "  </thead>\n",
              "  <tbody>\n",
              "    <tr>\n",
              "      <th>Master</th>\n",
              "      <td>414.975000</td>\n",
              "      <td>0.575000</td>\n",
              "      <td>2.625000</td>\n",
              "      <td>4.574167</td>\n",
              "      <td>2.300000</td>\n",
              "      <td>1.375000</td>\n",
              "      <td>3.340710</td>\n",
              "      <td>4.675000</td>\n",
              "    </tr>\n",
              "    <tr>\n",
              "      <th>Miss</th>\n",
              "      <td>411.741935</td>\n",
              "      <td>0.704301</td>\n",
              "      <td>2.284946</td>\n",
              "      <td>21.860000</td>\n",
              "      <td>0.698925</td>\n",
              "      <td>0.537634</td>\n",
              "      <td>3.123713</td>\n",
              "      <td>2.236559</td>\n",
              "    </tr>\n",
              "    <tr>\n",
              "      <th>Mr</th>\n",
              "      <td>455.880907</td>\n",
              "      <td>0.162571</td>\n",
              "      <td>2.381853</td>\n",
              "      <td>32.739609</td>\n",
              "      <td>0.293006</td>\n",
              "      <td>0.151229</td>\n",
              "      <td>2.651507</td>\n",
              "      <td>1.444234</td>\n",
              "    </tr>\n",
              "    <tr>\n",
              "      <th>Mrs</th>\n",
              "      <td>456.393701</td>\n",
              "      <td>0.795276</td>\n",
              "      <td>1.984252</td>\n",
              "      <td>35.981818</td>\n",
              "      <td>0.692913</td>\n",
              "      <td>0.818898</td>\n",
              "      <td>3.443751</td>\n",
              "      <td>2.511811</td>\n",
              "    </tr>\n",
              "    <tr>\n",
              "      <th>Other</th>\n",
              "      <td>564.444444</td>\n",
              "      <td>0.111111</td>\n",
              "      <td>1.666667</td>\n",
              "      <td>45.888889</td>\n",
              "      <td>0.111111</td>\n",
              "      <td>0.111111</td>\n",
              "      <td>2.641605</td>\n",
              "      <td>1.222222</td>\n",
              "    </tr>\n",
              "  </tbody>\n",
              "</table>\n",
              "</div>"
            ],
            "text/plain": [
              "         PassengerId  Survived    Pclass  ...     Parch      Fare  FamilySize\n",
              "Initial                                   ...                                \n",
              "Master    414.975000  0.575000  2.625000  ...  1.375000  3.340710    4.675000\n",
              "Miss      411.741935  0.704301  2.284946  ...  0.537634  3.123713    2.236559\n",
              "Mr        455.880907  0.162571  2.381853  ...  0.151229  2.651507    1.444234\n",
              "Mrs       456.393701  0.795276  1.984252  ...  0.818898  3.443751    2.511811\n",
              "Other     564.444444  0.111111  1.666667  ...  0.111111  2.641605    1.222222\n",
              "\n",
              "[5 rows x 8 columns]"
            ]
          },
          "metadata": {
            "tags": []
          },
          "execution_count": 306
        }
      ]
    },
    {
      "cell_type": "code",
      "metadata": {
        "id": "Gf_E8J6VGIaP",
        "colab_type": "code",
        "colab": {}
      },
      "source": [
        "# Age의 평균을 이용해 Null value를 채우도록 하겠습니다.."
      ],
      "execution_count": 0,
      "outputs": []
    },
    {
      "cell_type": "code",
      "metadata": {
        "id": "XPS6nGlJGcAx",
        "colab_type": "code",
        "colab": {}
      },
      "source": [
        "df_train.loc[(df_train.Age.isnull())&(df_train.Initial=='Mr'),'Age'] = 33\n",
        "df_train.loc[(df_train.Age.isnull())&(df_train.Initial=='Mrs'),'Age'] = 36\n",
        "df_train.loc[(df_train.Age.isnull())&(df_train.Initial=='Master'),'Age'] = 5\n",
        "df_train.loc[(df_train.Age.isnull())&(df_train.Initial=='Miss'),'Age'] = 22\n",
        "df_train.loc[(df_train.Age.isnull())&(df_train.Initial=='Other'),'Age'] = 46\n",
        "\n",
        "df_test.loc[(df_test.Age.isnull())&(df_test.Initial=='Mr'),'Age'] = 33\n",
        "df_test.loc[(df_test.Age.isnull())&(df_test.Initial=='Mrs'),'Age'] = 36\n",
        "df_test.loc[(df_test.Age.isnull())&(df_test.Initial=='Master'),'Age'] = 5\n",
        "df_test.loc[(df_test.Age.isnull())&(df_test.Initial=='Miss'),'Age'] = 22\n",
        "df_test.loc[(df_test.Age.isnull())&(df_test.Initial=='Other'),'Age'] = 46"
      ],
      "execution_count": 0,
      "outputs": []
    },
    {
      "cell_type": "code",
      "metadata": {
        "id": "oXcO8acxHZzY",
        "colab_type": "code",
        "outputId": "f5ba692b-92fc-43c4-a3e2-c6b4f3b2326e",
        "colab": {
          "base_uri": "https://localhost:8080/",
          "height": 34
        }
      },
      "source": [
        "print('Embarked has ', sum(df_train['Embarked'].isnull()), ' Null values')\n"
      ],
      "execution_count": 0,
      "outputs": [
        {
          "output_type": "stream",
          "text": [
            "Embarked has  2  Null values\n"
          ],
          "name": "stdout"
        }
      ]
    },
    {
      "cell_type": "code",
      "metadata": {
        "id": "rXunFrWJHqRn",
        "colab_type": "code",
        "colab": {}
      },
      "source": [
        "df_train['Embarked'].fillna('S', inplace=True)"
      ],
      "execution_count": 0,
      "outputs": []
    },
    {
      "cell_type": "code",
      "metadata": {
        "id": "k8jeJUiJHvUM",
        "colab_type": "code",
        "outputId": "7ae83c32-6c54-4914-91f7-34073d4372cb",
        "colab": {
          "base_uri": "https://localhost:8080/",
          "height": 54
        }
      },
      "source": [
        "\"\"\"\n",
        "Age 는 현재 continuous feature 입니다. 이대로 써도 모델을 세울 수 있지만,\n",
        "Age 를 몇개의 group 으로 나누어 category 화 시켜줄 수 도 있습니다. \n",
        "continuous 를 categorical 로 바꾸면 자칫 information loss 가 생길 수도 있습니다만,\n",
        "본 튜토리얼에서는 다양한 방법을 소개하는 것이 목적이므로 진행하도록 하겠습니다.\n",
        "\"\"\""
      ],
      "execution_count": 0,
      "outputs": [
        {
          "output_type": "execute_result",
          "data": {
            "text/plain": [
              "'\\nAge 는 현재 continuous feature 입니다. 이대로 써도 모델을 세울 수 있지만,\\nAge 를 몇개의 group 으로 나누어 category 화 시켜줄 수 도 있습니다. \\ncontinuous 를 categorical 로 바꾸면 자칫 information loss 가 생길 수도 있습니다만,\\n본 튜토리얼에서는 다양한 방법을 소개하는 것이 목적이므로 진행하도록 하겠습니다.\\n'"
            ]
          },
          "metadata": {
            "tags": []
          },
          "execution_count": 311
        }
      ]
    },
    {
      "cell_type": "code",
      "metadata": {
        "id": "D0b8AJ49O4fs",
        "colab_type": "code",
        "colab": {}
      },
      "source": [
        "df_train['Age_cat'] = 0\n",
        "df_train.loc[df_train['Age'] < 10, 'Age_cat'] = 0\n",
        "df_train.loc[(10 <= df_train['Age']) & (df_train['Age'] < 20), 'Age_cat'] = 1\n",
        "df_train.loc[(20 <= df_train['Age']) & (df_train['Age'] < 30), 'Age_cat'] = 2\n",
        "df_train.loc[(30 <= df_train['Age']) & (df_train['Age'] < 40), 'Age_cat'] = 3\n",
        "df_train.loc[(40 <= df_train['Age']) & (df_train['Age'] < 50), 'Age_cat'] = 4\n",
        "df_train.loc[(50 <= df_train['Age']) & (df_train['Age'] < 60), 'Age_cat'] = 5\n",
        "df_train.loc[(60 <= df_train['Age']) & (df_train['Age'] < 70), 'Age_cat'] = 6\n",
        "df_train.loc[70 <= df_train['Age'], 'Age_cat'] = 7\n",
        "\n",
        "df_test['Age_cat'] = 0\n",
        "df_test.loc[df_test['Age'] < 10, 'Age_cat'] = 0\n",
        "df_test.loc[(10 <= df_test['Age']) & (df_test['Age'] < 20), 'Age_cat'] = 1\n",
        "df_test.loc[(20 <= df_test['Age']) & (df_test['Age'] < 30), 'Age_cat'] = 2\n",
        "df_test.loc[(30 <= df_test['Age']) & (df_test['Age'] < 40), 'Age_cat'] = 3\n",
        "df_test.loc[(40 <= df_test['Age']) & (df_test['Age'] < 50), 'Age_cat'] = 4\n",
        "df_test.loc[(50 <= df_test['Age']) & (df_test['Age'] < 60), 'Age_cat'] = 5\n",
        "df_test.loc[(60 <= df_test['Age']) & (df_test['Age'] < 70), 'Age_cat'] = 6\n",
        "df_test.loc[70 <= df_test['Age'], 'Age_cat'] = 7"
      ],
      "execution_count": 0,
      "outputs": []
    },
    {
      "cell_type": "code",
      "metadata": {
        "id": "2cLhof31PFLA",
        "colab_type": "code",
        "colab": {}
      },
      "source": [
        "def category_age(x):\n",
        "    if x < 10:\n",
        "        return 0\n",
        "    elif x < 20:\n",
        "        return 1\n",
        "    elif x < 30:\n",
        "        return 2\n",
        "    elif x < 40:\n",
        "        return 3\n",
        "    elif x < 50:\n",
        "        return 4\n",
        "    elif x < 60:\n",
        "        return 5\n",
        "    elif x < 70:\n",
        "        return 6\n",
        "    else:\n",
        "        return 7    \n",
        "df_train['Age_cat_2'] = df_train['Age'].apply(category_age)"
      ],
      "execution_count": 0,
      "outputs": []
    },
    {
      "cell_type": "code",
      "metadata": {
        "id": "5JRL5BLmPHQS",
        "colab_type": "code",
        "outputId": "7fe7c70e-fcf2-4f90-f0e3-5b7b4f80eea1",
        "colab": {
          "base_uri": "https://localhost:8080/",
          "height": 34
        }
      },
      "source": [
        "print('1번 방법, 2번 방법 둘다 같은 결과를 내면 True 줘야함 -> ', (df_train['Age_cat'] == df_train['Age_cat_2']).all())"
      ],
      "execution_count": 0,
      "outputs": [
        {
          "output_type": "stream",
          "text": [
            "1번 방법, 2번 방법 둘다 같은 결과를 내면 True 줘야함 ->  True\n"
          ],
          "name": "stdout"
        }
      ]
    },
    {
      "cell_type": "code",
      "metadata": {
        "id": "dKITpMy5I1jV",
        "colab_type": "code",
        "colab": {}
      },
      "source": [
        "df_train.drop(['Age', 'Age_cat_2'], axis=1, inplace=True)\n",
        "df_test.drop(['Age'], axis=1, inplace=True)"
      ],
      "execution_count": 0,
      "outputs": []
    },
    {
      "cell_type": "code",
      "metadata": {
        "id": "Y0sbkiSWT3Ms",
        "colab_type": "code",
        "outputId": "70d6261c-7caf-40f4-e1b1-e43726aa1d28",
        "colab": {
          "base_uri": "https://localhost:8080/",
          "height": 258
        }
      },
      "source": [
        "df_train.head()"
      ],
      "execution_count": 0,
      "outputs": [
        {
          "output_type": "execute_result",
          "data": {
            "text/html": [
              "<div>\n",
              "<style scoped>\n",
              "    .dataframe tbody tr th:only-of-type {\n",
              "        vertical-align: middle;\n",
              "    }\n",
              "\n",
              "    .dataframe tbody tr th {\n",
              "        vertical-align: top;\n",
              "    }\n",
              "\n",
              "    .dataframe thead th {\n",
              "        text-align: right;\n",
              "    }\n",
              "</style>\n",
              "<table border=\"1\" class=\"dataframe\">\n",
              "  <thead>\n",
              "    <tr style=\"text-align: right;\">\n",
              "      <th></th>\n",
              "      <th>PassengerId</th>\n",
              "      <th>Survived</th>\n",
              "      <th>Pclass</th>\n",
              "      <th>Name</th>\n",
              "      <th>Sex</th>\n",
              "      <th>SibSp</th>\n",
              "      <th>Parch</th>\n",
              "      <th>Ticket</th>\n",
              "      <th>Fare</th>\n",
              "      <th>Cabin</th>\n",
              "      <th>Embarked</th>\n",
              "      <th>FamilySize</th>\n",
              "      <th>Initial</th>\n",
              "      <th>Age_cat</th>\n",
              "    </tr>\n",
              "  </thead>\n",
              "  <tbody>\n",
              "    <tr>\n",
              "      <th>0</th>\n",
              "      <td>1</td>\n",
              "      <td>0</td>\n",
              "      <td>3</td>\n",
              "      <td>Braund, Mr. Owen Harris</td>\n",
              "      <td>male</td>\n",
              "      <td>1</td>\n",
              "      <td>0</td>\n",
              "      <td>A/5 21171</td>\n",
              "      <td>1.981001</td>\n",
              "      <td>NaN</td>\n",
              "      <td>S</td>\n",
              "      <td>2</td>\n",
              "      <td>Mr</td>\n",
              "      <td>2</td>\n",
              "    </tr>\n",
              "    <tr>\n",
              "      <th>1</th>\n",
              "      <td>2</td>\n",
              "      <td>1</td>\n",
              "      <td>1</td>\n",
              "      <td>Cumings, Mrs. John Bradley (Florence Briggs Th...</td>\n",
              "      <td>female</td>\n",
              "      <td>1</td>\n",
              "      <td>0</td>\n",
              "      <td>PC 17599</td>\n",
              "      <td>4.266662</td>\n",
              "      <td>C85</td>\n",
              "      <td>C</td>\n",
              "      <td>2</td>\n",
              "      <td>Mrs</td>\n",
              "      <td>3</td>\n",
              "    </tr>\n",
              "    <tr>\n",
              "      <th>2</th>\n",
              "      <td>3</td>\n",
              "      <td>1</td>\n",
              "      <td>3</td>\n",
              "      <td>Heikkinen, Miss. Laina</td>\n",
              "      <td>female</td>\n",
              "      <td>0</td>\n",
              "      <td>0</td>\n",
              "      <td>STON/O2. 3101282</td>\n",
              "      <td>2.070022</td>\n",
              "      <td>NaN</td>\n",
              "      <td>S</td>\n",
              "      <td>1</td>\n",
              "      <td>Miss</td>\n",
              "      <td>2</td>\n",
              "    </tr>\n",
              "    <tr>\n",
              "      <th>3</th>\n",
              "      <td>4</td>\n",
              "      <td>1</td>\n",
              "      <td>1</td>\n",
              "      <td>Futrelle, Mrs. Jacques Heath (Lily May Peel)</td>\n",
              "      <td>female</td>\n",
              "      <td>1</td>\n",
              "      <td>0</td>\n",
              "      <td>113803</td>\n",
              "      <td>3.972177</td>\n",
              "      <td>C123</td>\n",
              "      <td>S</td>\n",
              "      <td>2</td>\n",
              "      <td>Mrs</td>\n",
              "      <td>3</td>\n",
              "    </tr>\n",
              "    <tr>\n",
              "      <th>4</th>\n",
              "      <td>5</td>\n",
              "      <td>0</td>\n",
              "      <td>3</td>\n",
              "      <td>Allen, Mr. William Henry</td>\n",
              "      <td>male</td>\n",
              "      <td>0</td>\n",
              "      <td>0</td>\n",
              "      <td>373450</td>\n",
              "      <td>2.085672</td>\n",
              "      <td>NaN</td>\n",
              "      <td>S</td>\n",
              "      <td>1</td>\n",
              "      <td>Mr</td>\n",
              "      <td>3</td>\n",
              "    </tr>\n",
              "  </tbody>\n",
              "</table>\n",
              "</div>"
            ],
            "text/plain": [
              "   PassengerId  Survived  Pclass  ... FamilySize Initial  Age_cat\n",
              "0            1         0       3  ...          2      Mr        2\n",
              "1            2         1       1  ...          2     Mrs        3\n",
              "2            3         1       3  ...          1    Miss        2\n",
              "3            4         1       1  ...          2     Mrs        3\n",
              "4            5         0       3  ...          1      Mr        3\n",
              "\n",
              "[5 rows x 14 columns]"
            ]
          },
          "metadata": {
            "tags": []
          },
          "execution_count": 316
        }
      ]
    },
    {
      "cell_type": "code",
      "metadata": {
        "id": "orGYzc1MT90j",
        "colab_type": "code",
        "outputId": "23a96b69-94fc-408a-eb93-757e41da14fe",
        "colab": {
          "base_uri": "https://localhost:8080/",
          "height": 206
        }
      },
      "source": [
        "df_test.head()"
      ],
      "execution_count": 0,
      "outputs": [
        {
          "output_type": "execute_result",
          "data": {
            "text/html": [
              "<div>\n",
              "<style scoped>\n",
              "    .dataframe tbody tr th:only-of-type {\n",
              "        vertical-align: middle;\n",
              "    }\n",
              "\n",
              "    .dataframe tbody tr th {\n",
              "        vertical-align: top;\n",
              "    }\n",
              "\n",
              "    .dataframe thead th {\n",
              "        text-align: right;\n",
              "    }\n",
              "</style>\n",
              "<table border=\"1\" class=\"dataframe\">\n",
              "  <thead>\n",
              "    <tr style=\"text-align: right;\">\n",
              "      <th></th>\n",
              "      <th>PassengerId</th>\n",
              "      <th>Pclass</th>\n",
              "      <th>Name</th>\n",
              "      <th>Sex</th>\n",
              "      <th>SibSp</th>\n",
              "      <th>Parch</th>\n",
              "      <th>Ticket</th>\n",
              "      <th>Fare</th>\n",
              "      <th>Cabin</th>\n",
              "      <th>Embarked</th>\n",
              "      <th>FamilySize</th>\n",
              "      <th>Initial</th>\n",
              "      <th>Age_cat</th>\n",
              "    </tr>\n",
              "  </thead>\n",
              "  <tbody>\n",
              "    <tr>\n",
              "      <th>0</th>\n",
              "      <td>892</td>\n",
              "      <td>3</td>\n",
              "      <td>Kelly, Mr. James</td>\n",
              "      <td>male</td>\n",
              "      <td>0</td>\n",
              "      <td>0</td>\n",
              "      <td>330911</td>\n",
              "      <td>2.057860</td>\n",
              "      <td>NaN</td>\n",
              "      <td>Q</td>\n",
              "      <td>1</td>\n",
              "      <td>Mr</td>\n",
              "      <td>3</td>\n",
              "    </tr>\n",
              "    <tr>\n",
              "      <th>1</th>\n",
              "      <td>893</td>\n",
              "      <td>3</td>\n",
              "      <td>Wilkes, Mrs. James (Ellen Needs)</td>\n",
              "      <td>female</td>\n",
              "      <td>1</td>\n",
              "      <td>0</td>\n",
              "      <td>363272</td>\n",
              "      <td>1.945910</td>\n",
              "      <td>NaN</td>\n",
              "      <td>S</td>\n",
              "      <td>2</td>\n",
              "      <td>Mrs</td>\n",
              "      <td>4</td>\n",
              "    </tr>\n",
              "    <tr>\n",
              "      <th>2</th>\n",
              "      <td>894</td>\n",
              "      <td>2</td>\n",
              "      <td>Myles, Mr. Thomas Francis</td>\n",
              "      <td>male</td>\n",
              "      <td>0</td>\n",
              "      <td>0</td>\n",
              "      <td>240276</td>\n",
              "      <td>2.270836</td>\n",
              "      <td>NaN</td>\n",
              "      <td>Q</td>\n",
              "      <td>1</td>\n",
              "      <td>Mr</td>\n",
              "      <td>6</td>\n",
              "    </tr>\n",
              "    <tr>\n",
              "      <th>3</th>\n",
              "      <td>895</td>\n",
              "      <td>3</td>\n",
              "      <td>Wirz, Mr. Albert</td>\n",
              "      <td>male</td>\n",
              "      <td>0</td>\n",
              "      <td>0</td>\n",
              "      <td>315154</td>\n",
              "      <td>2.159003</td>\n",
              "      <td>NaN</td>\n",
              "      <td>S</td>\n",
              "      <td>1</td>\n",
              "      <td>Mr</td>\n",
              "      <td>2</td>\n",
              "    </tr>\n",
              "    <tr>\n",
              "      <th>4</th>\n",
              "      <td>896</td>\n",
              "      <td>3</td>\n",
              "      <td>Hirvonen, Mrs. Alexander (Helga E Lindqvist)</td>\n",
              "      <td>female</td>\n",
              "      <td>1</td>\n",
              "      <td>1</td>\n",
              "      <td>3101298</td>\n",
              "      <td>2.508582</td>\n",
              "      <td>NaN</td>\n",
              "      <td>S</td>\n",
              "      <td>3</td>\n",
              "      <td>Mrs</td>\n",
              "      <td>2</td>\n",
              "    </tr>\n",
              "  </tbody>\n",
              "</table>\n",
              "</div>"
            ],
            "text/plain": [
              "   PassengerId  Pclass  ... Initial Age_cat\n",
              "0          892       3  ...      Mr       3\n",
              "1          893       3  ...     Mrs       4\n",
              "2          894       2  ...      Mr       6\n",
              "3          895       3  ...      Mr       2\n",
              "4          896       3  ...     Mrs       2\n",
              "\n",
              "[5 rows x 13 columns]"
            ]
          },
          "metadata": {
            "tags": []
          },
          "execution_count": 317
        }
      ]
    },
    {
      "cell_type": "code",
      "metadata": {
        "id": "HxYfOXBZJi-q",
        "colab_type": "code",
        "outputId": "64dab8bd-e32b-40e3-fd56-bdc8f4be0c18",
        "colab": {
          "base_uri": "https://localhost:8080/",
          "height": 34
        }
      },
      "source": [
        "df_train['Embarked'].unique()"
      ],
      "execution_count": 0,
      "outputs": [
        {
          "output_type": "execute_result",
          "data": {
            "text/plain": [
              "array(['S', 'C', 'Q'], dtype=object)"
            ]
          },
          "metadata": {
            "tags": []
          },
          "execution_count": 318
        }
      ]
    },
    {
      "cell_type": "code",
      "metadata": {
        "id": "8I2GJsRjJpNA",
        "colab_type": "code",
        "outputId": "887db301-7d69-4913-eb56-6254f04a145c",
        "colab": {
          "base_uri": "https://localhost:8080/",
          "height": 86
        }
      },
      "source": [
        "df_train['Embarked'].value_counts()"
      ],
      "execution_count": 0,
      "outputs": [
        {
          "output_type": "execute_result",
          "data": {
            "text/plain": [
              "S    646\n",
              "C    168\n",
              "Q     77\n",
              "Name: Embarked, dtype: int64"
            ]
          },
          "metadata": {
            "tags": []
          },
          "execution_count": 319
        }
      ]
    },
    {
      "cell_type": "code",
      "metadata": {
        "id": "tjl7KsUjJtIe",
        "colab_type": "code",
        "colab": {}
      },
      "source": [
        "df_train['Sex'] = df_train['Sex'].map({'female': 0, 'male': 1})\n",
        "df_test['Sex'] = df_test['Sex'].map({'female': 0, 'male': 1})"
      ],
      "execution_count": 0,
      "outputs": []
    },
    {
      "cell_type": "code",
      "metadata": {
        "id": "MLuofZD6KIlo",
        "colab_type": "code",
        "outputId": "fdbc5dd6-3496-46d1-b1e4-6fcab625448b",
        "colab": {
          "base_uri": "https://localhost:8080/",
          "height": 34
        }
      },
      "source": [
        "df_train['Embarked'].isnull().any()"
      ],
      "execution_count": 0,
      "outputs": [
        {
          "output_type": "execute_result",
          "data": {
            "text/plain": [
              "False"
            ]
          },
          "metadata": {
            "tags": []
          },
          "execution_count": 321
        }
      ]
    },
    {
      "cell_type": "code",
      "metadata": {
        "id": "obhex-cPKtMI",
        "colab_type": "code",
        "colab": {}
      },
      "source": [
        "heatmap_data = df_train[['Survived', 'Pclass', 'Sex', 'Fare', 'Embarked', 'FamilySize', 'Initial', 'Age_cat']] \n",
        "\n",
        "colormap = plt.cm.RdBu\n",
        "plt.figure(figsize=(14, 12))\n",
        "plt.title('Pearson Correlation of Features', y=1.05, size=15)\n",
        "sns.heatmap(heatmap_data.astype(float).corr(), linewidths=0.1, vmax=1.0,square=True, cmap=colormap, linecolor='white', annot=True, annot_kws={\"size\": 16})\n",
        "del heatmap_data"
      ],
      "execution_count": 0,
      "outputs": []
    },
    {
      "cell_type": "code",
      "metadata": {
        "id": "F1VO2fOZLnec",
        "colab_type": "code",
        "colab": {}
      },
      "source": [
        "# one-hot encoding on Initial and Embarked"
      ],
      "execution_count": 0,
      "outputs": []
    },
    {
      "cell_type": "code",
      "metadata": {
        "id": "OVUMknwHMKkV",
        "colab_type": "code",
        "colab": {}
      },
      "source": [
        "df_train = pd.get_dummies(df_train,columns=['Initial'],prefix='Initial')\n",
        "df_test = pd.get_dummies(df_test,columns=['Initial'],prefix='Initial')"
      ],
      "execution_count": 0,
      "outputs": []
    },
    {
      "cell_type": "code",
      "metadata": {
        "id": "nd45SXe9MZoW",
        "colab_type": "code",
        "outputId": "2d61e06a-c684-41f0-b2d4-1d75da387f51",
        "colab": {
          "base_uri": "https://localhost:8080/",
          "height": 504
        }
      },
      "source": [
        "df_train.head()"
      ],
      "execution_count": 0,
      "outputs": [
        {
          "output_type": "execute_result",
          "data": {
            "text/html": [
              "<div>\n",
              "<style scoped>\n",
              "    .dataframe tbody tr th:only-of-type {\n",
              "        vertical-align: middle;\n",
              "    }\n",
              "\n",
              "    .dataframe tbody tr th {\n",
              "        vertical-align: top;\n",
              "    }\n",
              "\n",
              "    .dataframe thead th {\n",
              "        text-align: right;\n",
              "    }\n",
              "</style>\n",
              "<table border=\"1\" class=\"dataframe\">\n",
              "  <thead>\n",
              "    <tr style=\"text-align: right;\">\n",
              "      <th></th>\n",
              "      <th>PassengerId</th>\n",
              "      <th>Survived</th>\n",
              "      <th>Pclass</th>\n",
              "      <th>Name</th>\n",
              "      <th>Sex</th>\n",
              "      <th>SibSp</th>\n",
              "      <th>Parch</th>\n",
              "      <th>Ticket</th>\n",
              "      <th>Fare</th>\n",
              "      <th>Cabin</th>\n",
              "      <th>Embarked</th>\n",
              "      <th>FamilySize</th>\n",
              "      <th>Age_cat</th>\n",
              "      <th>Initial_Master</th>\n",
              "      <th>Initial_Miss</th>\n",
              "      <th>Initial_Mr</th>\n",
              "      <th>Initial_Mrs</th>\n",
              "      <th>Initial_Other</th>\n",
              "    </tr>\n",
              "  </thead>\n",
              "  <tbody>\n",
              "    <tr>\n",
              "      <th>0</th>\n",
              "      <td>1</td>\n",
              "      <td>0</td>\n",
              "      <td>3</td>\n",
              "      <td>Braund, Mr. Owen Harris</td>\n",
              "      <td>1</td>\n",
              "      <td>1</td>\n",
              "      <td>0</td>\n",
              "      <td>A/5 21171</td>\n",
              "      <td>1.981001</td>\n",
              "      <td>NaN</td>\n",
              "      <td>S</td>\n",
              "      <td>2</td>\n",
              "      <td>2</td>\n",
              "      <td>0</td>\n",
              "      <td>0</td>\n",
              "      <td>1</td>\n",
              "      <td>0</td>\n",
              "      <td>0</td>\n",
              "    </tr>\n",
              "    <tr>\n",
              "      <th>1</th>\n",
              "      <td>2</td>\n",
              "      <td>1</td>\n",
              "      <td>1</td>\n",
              "      <td>Cumings, Mrs. John Bradley (Florence Briggs Th...</td>\n",
              "      <td>0</td>\n",
              "      <td>1</td>\n",
              "      <td>0</td>\n",
              "      <td>PC 17599</td>\n",
              "      <td>4.266662</td>\n",
              "      <td>C85</td>\n",
              "      <td>C</td>\n",
              "      <td>2</td>\n",
              "      <td>3</td>\n",
              "      <td>0</td>\n",
              "      <td>0</td>\n",
              "      <td>0</td>\n",
              "      <td>1</td>\n",
              "      <td>0</td>\n",
              "    </tr>\n",
              "    <tr>\n",
              "      <th>2</th>\n",
              "      <td>3</td>\n",
              "      <td>1</td>\n",
              "      <td>3</td>\n",
              "      <td>Heikkinen, Miss. Laina</td>\n",
              "      <td>0</td>\n",
              "      <td>0</td>\n",
              "      <td>0</td>\n",
              "      <td>STON/O2. 3101282</td>\n",
              "      <td>2.070022</td>\n",
              "      <td>NaN</td>\n",
              "      <td>S</td>\n",
              "      <td>1</td>\n",
              "      <td>2</td>\n",
              "      <td>0</td>\n",
              "      <td>1</td>\n",
              "      <td>0</td>\n",
              "      <td>0</td>\n",
              "      <td>0</td>\n",
              "    </tr>\n",
              "    <tr>\n",
              "      <th>3</th>\n",
              "      <td>4</td>\n",
              "      <td>1</td>\n",
              "      <td>1</td>\n",
              "      <td>Futrelle, Mrs. Jacques Heath (Lily May Peel)</td>\n",
              "      <td>0</td>\n",
              "      <td>1</td>\n",
              "      <td>0</td>\n",
              "      <td>113803</td>\n",
              "      <td>3.972177</td>\n",
              "      <td>C123</td>\n",
              "      <td>S</td>\n",
              "      <td>2</td>\n",
              "      <td>3</td>\n",
              "      <td>0</td>\n",
              "      <td>0</td>\n",
              "      <td>0</td>\n",
              "      <td>1</td>\n",
              "      <td>0</td>\n",
              "    </tr>\n",
              "    <tr>\n",
              "      <th>4</th>\n",
              "      <td>5</td>\n",
              "      <td>0</td>\n",
              "      <td>3</td>\n",
              "      <td>Allen, Mr. William Henry</td>\n",
              "      <td>1</td>\n",
              "      <td>0</td>\n",
              "      <td>0</td>\n",
              "      <td>373450</td>\n",
              "      <td>2.085672</td>\n",
              "      <td>NaN</td>\n",
              "      <td>S</td>\n",
              "      <td>1</td>\n",
              "      <td>3</td>\n",
              "      <td>0</td>\n",
              "      <td>0</td>\n",
              "      <td>1</td>\n",
              "      <td>0</td>\n",
              "      <td>0</td>\n",
              "    </tr>\n",
              "  </tbody>\n",
              "</table>\n",
              "</div>"
            ],
            "text/plain": [
              "   PassengerId  Survived  Pclass  ... Initial_Mr  Initial_Mrs  Initial_Other\n",
              "0            1         0       3  ...          1            0              0\n",
              "1            2         1       1  ...          0            1              0\n",
              "2            3         1       3  ...          0            0              0\n",
              "3            4         1       1  ...          0            1              0\n",
              "4            5         0       3  ...          1            0              0\n",
              "\n",
              "[5 rows x 18 columns]"
            ]
          },
          "metadata": {
            "tags": []
          },
          "execution_count": 324
        }
      ]
    },
    {
      "cell_type": "code",
      "metadata": {
        "id": "8jk9MEr0MbHy",
        "colab_type": "code",
        "colab": {}
      },
      "source": [
        "df_train = pd.get_dummies(df_train,columns=['Embarked'],prefix='Embarked')\n",
        "df_test = pd.get_dummies(df_test,columns=['Embarked'],prefix='Embarked')"
      ],
      "execution_count": 0,
      "outputs": []
    },
    {
      "cell_type": "code",
      "metadata": {
        "id": "OCYAfj1dMxv9",
        "colab_type": "code",
        "colab": {}
      },
      "source": [
        "# sklearn로 Labelencoder + oneHotencoder 이용해도 one-hot encoding이 가능합니다.\n",
        "# category 가 100개가 넘어가는 경우가 있습니다. 이때 One-hot encoding 을 사용하면 column이 100개가 생겨, 학습시 매우 버거울 경우가\n",
        "# 있습니다. 이런 경우는 다른 방법을 사용하기도 합니다."
      ],
      "execution_count": 0,
      "outputs": []
    },
    {
      "cell_type": "code",
      "metadata": {
        "id": "9iW_QP0YNPkM",
        "colab_type": "code",
        "colab": {}
      },
      "source": [
        "df_train.drop(['PassengerId', 'Name', 'SibSp', 'Parch', 'Ticket', 'Cabin'], axis=1, inplace=True)\n",
        "df_test.drop(['PassengerId', 'Name',  'SibSp', 'Parch', 'Ticket', 'Cabin'], axis=1, inplace=True)"
      ],
      "execution_count": 0,
      "outputs": []
    },
    {
      "cell_type": "code",
      "metadata": {
        "id": "-OdCZv31RTnM",
        "colab_type": "code",
        "outputId": "65175976-41f5-4d15-9ef1-b639efb2aac6",
        "colab": {
          "base_uri": "https://localhost:8080/",
          "height": 226
        }
      },
      "source": [
        "\n",
        "\n",
        "df_train.head()\n",
        "\n"
      ],
      "execution_count": 0,
      "outputs": [
        {
          "output_type": "execute_result",
          "data": {
            "text/html": [
              "<div>\n",
              "<style scoped>\n",
              "    .dataframe tbody tr th:only-of-type {\n",
              "        vertical-align: middle;\n",
              "    }\n",
              "\n",
              "    .dataframe tbody tr th {\n",
              "        vertical-align: top;\n",
              "    }\n",
              "\n",
              "    .dataframe thead th {\n",
              "        text-align: right;\n",
              "    }\n",
              "</style>\n",
              "<table border=\"1\" class=\"dataframe\">\n",
              "  <thead>\n",
              "    <tr style=\"text-align: right;\">\n",
              "      <th></th>\n",
              "      <th>Survived</th>\n",
              "      <th>Pclass</th>\n",
              "      <th>Sex</th>\n",
              "      <th>Fare</th>\n",
              "      <th>FamilySize</th>\n",
              "      <th>Age_cat</th>\n",
              "      <th>Initial_Master</th>\n",
              "      <th>Initial_Miss</th>\n",
              "      <th>Initial_Mr</th>\n",
              "      <th>Initial_Mrs</th>\n",
              "      <th>Initial_Other</th>\n",
              "      <th>Embarked_C</th>\n",
              "      <th>Embarked_Q</th>\n",
              "      <th>Embarked_S</th>\n",
              "    </tr>\n",
              "  </thead>\n",
              "  <tbody>\n",
              "    <tr>\n",
              "      <th>0</th>\n",
              "      <td>0</td>\n",
              "      <td>3</td>\n",
              "      <td>1</td>\n",
              "      <td>1.981001</td>\n",
              "      <td>2</td>\n",
              "      <td>2</td>\n",
              "      <td>0</td>\n",
              "      <td>0</td>\n",
              "      <td>1</td>\n",
              "      <td>0</td>\n",
              "      <td>0</td>\n",
              "      <td>0</td>\n",
              "      <td>0</td>\n",
              "      <td>1</td>\n",
              "    </tr>\n",
              "    <tr>\n",
              "      <th>1</th>\n",
              "      <td>1</td>\n",
              "      <td>1</td>\n",
              "      <td>0</td>\n",
              "      <td>4.266662</td>\n",
              "      <td>2</td>\n",
              "      <td>3</td>\n",
              "      <td>0</td>\n",
              "      <td>0</td>\n",
              "      <td>0</td>\n",
              "      <td>1</td>\n",
              "      <td>0</td>\n",
              "      <td>1</td>\n",
              "      <td>0</td>\n",
              "      <td>0</td>\n",
              "    </tr>\n",
              "    <tr>\n",
              "      <th>2</th>\n",
              "      <td>1</td>\n",
              "      <td>3</td>\n",
              "      <td>0</td>\n",
              "      <td>2.070022</td>\n",
              "      <td>1</td>\n",
              "      <td>2</td>\n",
              "      <td>0</td>\n",
              "      <td>1</td>\n",
              "      <td>0</td>\n",
              "      <td>0</td>\n",
              "      <td>0</td>\n",
              "      <td>0</td>\n",
              "      <td>0</td>\n",
              "      <td>1</td>\n",
              "    </tr>\n",
              "    <tr>\n",
              "      <th>3</th>\n",
              "      <td>1</td>\n",
              "      <td>1</td>\n",
              "      <td>0</td>\n",
              "      <td>3.972177</td>\n",
              "      <td>2</td>\n",
              "      <td>3</td>\n",
              "      <td>0</td>\n",
              "      <td>0</td>\n",
              "      <td>0</td>\n",
              "      <td>1</td>\n",
              "      <td>0</td>\n",
              "      <td>0</td>\n",
              "      <td>0</td>\n",
              "      <td>1</td>\n",
              "    </tr>\n",
              "    <tr>\n",
              "      <th>4</th>\n",
              "      <td>0</td>\n",
              "      <td>3</td>\n",
              "      <td>1</td>\n",
              "      <td>2.085672</td>\n",
              "      <td>1</td>\n",
              "      <td>3</td>\n",
              "      <td>0</td>\n",
              "      <td>0</td>\n",
              "      <td>1</td>\n",
              "      <td>0</td>\n",
              "      <td>0</td>\n",
              "      <td>0</td>\n",
              "      <td>0</td>\n",
              "      <td>1</td>\n",
              "    </tr>\n",
              "  </tbody>\n",
              "</table>\n",
              "</div>"
            ],
            "text/plain": [
              "   Survived  Pclass  Sex  ...  Embarked_C  Embarked_Q  Embarked_S\n",
              "0         0       3    1  ...           0           0           1\n",
              "1         1       1    0  ...           1           0           0\n",
              "2         1       3    0  ...           0           0           1\n",
              "3         1       1    0  ...           0           0           1\n",
              "4         0       3    1  ...           0           0           1\n",
              "\n",
              "[5 rows x 14 columns]"
            ]
          },
          "metadata": {
            "tags": []
          },
          "execution_count": 328
        }
      ]
    },
    {
      "cell_type": "code",
      "metadata": {
        "id": "ApmbwIAjRW9C",
        "colab_type": "code",
        "outputId": "0b6972c0-1315-4470-dcaa-3536b9bca2ab",
        "colab": {
          "base_uri": "https://localhost:8080/",
          "height": 206
        }
      },
      "source": [
        "\n",
        "\n",
        "df_test.head()\n",
        "\n"
      ],
      "execution_count": 0,
      "outputs": [
        {
          "output_type": "execute_result",
          "data": {
            "text/html": [
              "<div>\n",
              "<style scoped>\n",
              "    .dataframe tbody tr th:only-of-type {\n",
              "        vertical-align: middle;\n",
              "    }\n",
              "\n",
              "    .dataframe tbody tr th {\n",
              "        vertical-align: top;\n",
              "    }\n",
              "\n",
              "    .dataframe thead th {\n",
              "        text-align: right;\n",
              "    }\n",
              "</style>\n",
              "<table border=\"1\" class=\"dataframe\">\n",
              "  <thead>\n",
              "    <tr style=\"text-align: right;\">\n",
              "      <th></th>\n",
              "      <th>Pclass</th>\n",
              "      <th>Sex</th>\n",
              "      <th>Fare</th>\n",
              "      <th>FamilySize</th>\n",
              "      <th>Age_cat</th>\n",
              "      <th>Initial_Master</th>\n",
              "      <th>Initial_Miss</th>\n",
              "      <th>Initial_Mr</th>\n",
              "      <th>Initial_Mrs</th>\n",
              "      <th>Initial_Other</th>\n",
              "      <th>Embarked_C</th>\n",
              "      <th>Embarked_Q</th>\n",
              "      <th>Embarked_S</th>\n",
              "    </tr>\n",
              "  </thead>\n",
              "  <tbody>\n",
              "    <tr>\n",
              "      <th>0</th>\n",
              "      <td>3</td>\n",
              "      <td>1</td>\n",
              "      <td>2.057860</td>\n",
              "      <td>1</td>\n",
              "      <td>3</td>\n",
              "      <td>0</td>\n",
              "      <td>0</td>\n",
              "      <td>1</td>\n",
              "      <td>0</td>\n",
              "      <td>0</td>\n",
              "      <td>0</td>\n",
              "      <td>1</td>\n",
              "      <td>0</td>\n",
              "    </tr>\n",
              "    <tr>\n",
              "      <th>1</th>\n",
              "      <td>3</td>\n",
              "      <td>0</td>\n",
              "      <td>1.945910</td>\n",
              "      <td>2</td>\n",
              "      <td>4</td>\n",
              "      <td>0</td>\n",
              "      <td>0</td>\n",
              "      <td>0</td>\n",
              "      <td>1</td>\n",
              "      <td>0</td>\n",
              "      <td>0</td>\n",
              "      <td>0</td>\n",
              "      <td>1</td>\n",
              "    </tr>\n",
              "    <tr>\n",
              "      <th>2</th>\n",
              "      <td>2</td>\n",
              "      <td>1</td>\n",
              "      <td>2.270836</td>\n",
              "      <td>1</td>\n",
              "      <td>6</td>\n",
              "      <td>0</td>\n",
              "      <td>0</td>\n",
              "      <td>1</td>\n",
              "      <td>0</td>\n",
              "      <td>0</td>\n",
              "      <td>0</td>\n",
              "      <td>1</td>\n",
              "      <td>0</td>\n",
              "    </tr>\n",
              "    <tr>\n",
              "      <th>3</th>\n",
              "      <td>3</td>\n",
              "      <td>1</td>\n",
              "      <td>2.159003</td>\n",
              "      <td>1</td>\n",
              "      <td>2</td>\n",
              "      <td>0</td>\n",
              "      <td>0</td>\n",
              "      <td>1</td>\n",
              "      <td>0</td>\n",
              "      <td>0</td>\n",
              "      <td>0</td>\n",
              "      <td>0</td>\n",
              "      <td>1</td>\n",
              "    </tr>\n",
              "    <tr>\n",
              "      <th>4</th>\n",
              "      <td>3</td>\n",
              "      <td>0</td>\n",
              "      <td>2.508582</td>\n",
              "      <td>3</td>\n",
              "      <td>2</td>\n",
              "      <td>0</td>\n",
              "      <td>0</td>\n",
              "      <td>0</td>\n",
              "      <td>1</td>\n",
              "      <td>0</td>\n",
              "      <td>0</td>\n",
              "      <td>0</td>\n",
              "      <td>1</td>\n",
              "    </tr>\n",
              "  </tbody>\n",
              "</table>\n",
              "</div>"
            ],
            "text/plain": [
              "   Pclass  Sex      Fare  ...  Embarked_C  Embarked_Q  Embarked_S\n",
              "0       3    1  2.057860  ...           0           1           0\n",
              "1       3    0  1.945910  ...           0           0           1\n",
              "2       2    1  2.270836  ...           0           1           0\n",
              "3       3    1  2.159003  ...           0           0           1\n",
              "4       3    0  2.508582  ...           0           0           1\n",
              "\n",
              "[5 rows x 13 columns]"
            ]
          },
          "metadata": {
            "tags": []
          },
          "execution_count": 329
        }
      ]
    },
    {
      "cell_type": "code",
      "metadata": {
        "id": "iZrrSBmbRbuh",
        "colab_type": "code",
        "colab": {}
      },
      "source": [
        "# Building machine learning model and prediction using the trained model\n",
        "\"\"\"\n",
        "RandomForestClassifier는 여러개의 Sampling data를 동일한 방법(결정 트리)으로 training을 한 후, 각 각에 대해 예측한 결과 값을 토대로\n",
        "결과값을 예측하는데 사용되고 있다.  \n",
        "\n",
        "앙상블의 학습의 유형은 보팅(voting), 배깅(Bagging),부스팅(Boosting) 3가지 유형이 있다.\n",
        "보팅은 모든 data set을 Linear Regression, K Nearest Neighbor, Support Vector Machine을 통한 예측값을 통하여 결과값을 예측하는데 사용된다.\n",
        "\n",
        "부스팅은 여러 개의 분류기가 순차적으로 학습을 수행하되, 앞에서 학습한 분류기가 예측이 틀린 데이터에 대해서는 올바르게 예측할 수 있도록 다음 분류기에서도\n",
        "가중치(weight)를 부여하면서 학습과 예측을 진행하는 것입니다. \n",
        "\"\"\"\n",
        "#importing all the required ML packages\n",
        "from sklearn.ensemble import RandomForestClassifier # 유명한 randomforestclassfier 입니다. \n",
        "from sklearn import metrics # 모델의 평가를 위해서 씁니다\n",
        "from sklearn.model_selection import train_test_split # traning set을 쉽게 나눠주는 함수입니다.\n",
        "from sklearn.metrics import accuracy_score\n"
      ],
      "execution_count": 0,
      "outputs": []
    },
    {
      "cell_type": "code",
      "metadata": {
        "id": "D5fyqTVEGjpS",
        "colab_type": "code",
        "colab": {}
      },
      "source": [
        "X_train = df_train.drop('Survived', axis=1).values\n",
        "target_label = df_train['Survived'].values\n",
        "X_test = df_test.values"
      ],
      "execution_count": 0,
      "outputs": []
    },
    {
      "cell_type": "code",
      "metadata": {
        "id": "d5DpnvO5HMom",
        "colab_type": "code",
        "outputId": "a73d842d-ad27-4785-e7a9-5d4faf973128",
        "colab": {
          "base_uri": "https://localhost:8080/",
          "height": 54
        }
      },
      "source": [
        "\"\"\"\n",
        "train을 하고 valid를 거쳐, test를 진행하는 것.\n",
        "파라미터 튜닝은 시간, 경험, 알고리즘에 대한 이해 등이 필요합니다. 결국 많이 써봐야 모델도 잘 세울 수 있는 것이죠.\n",
        "그래서 캐글을 추천합니다. 여러 데이터 셋을 가지고 모델을 이리저리 써봐야 튜닝하는 감이 생길테니까요!\n",
        "\"\"\""
      ],
      "execution_count": 0,
      "outputs": [
        {
          "output_type": "execute_result",
          "data": {
            "text/plain": [
              "'\\ntrain을 하고 valid를 거쳐, test를 진행하는 것.\\n파라미터 튜닝은 시간, 경험, 알고리즘에 대한 이해 등이 필요합니다. 결국 많이 써봐야 모델도 잘 세울 수 있는 것이죠.\\n그래서 캐글을 추천합니다. 여러 데이터 셋을 가지고 모델을 이리저리 써봐야 튜닝하는 감이 생길테니까요!\\n'"
            ]
          },
          "metadata": {
            "tags": []
          },
          "execution_count": 332
        }
      ]
    },
    {
      "cell_type": "code",
      "metadata": {
        "id": "c8r5XOFOIiQj",
        "colab_type": "code",
        "colab": {}
      },
      "source": [
        "X_tr, X_vld, y_tr, y_vld = train_test_split(X_train, target_label, test_size=0.3, random_state=2018)\n",
        "# test size 비율 30%,random_state=2018"
      ],
      "execution_count": 0,
      "outputs": []
    },
    {
      "cell_type": "code",
      "metadata": {
        "id": "xM58Nz71H2JJ",
        "colab_type": "code",
        "colab": {}
      },
      "source": [
        "model = RandomForestClassifier()\n",
        "model.fit(X_tr, y_tr)\n",
        "prediction = model.predict(X_vld)"
      ],
      "execution_count": 0,
      "outputs": []
    },
    {
      "cell_type": "code",
      "metadata": {
        "id": "z8eTq_8dIc4l",
        "colab_type": "code",
        "outputId": "2196193e-45e1-467d-ad77-09aef42a4134",
        "colab": {
          "base_uri": "https://localhost:8080/",
          "height": 34
        }
      },
      "source": [
        "print('총 {}명 중 {:.2f}% 정확도로 생존을 맞춤'.format(y_vld.shape[0], 100 * metrics.accuracy_score(prediction, y_vld)))"
      ],
      "execution_count": 0,
      "outputs": [
        {
          "output_type": "stream",
          "text": [
            "총 268명 중 83.21% 정확도로 생존을 맞춤\n"
          ],
          "name": "stdout"
        }
      ]
    },
    {
      "cell_type": "code",
      "metadata": {
        "id": "k6oM4tlYJeMp",
        "colab_type": "code",
        "colab": {}
      },
      "source": [
        ""
      ],
      "execution_count": 0,
      "outputs": []
    }
  ]
}